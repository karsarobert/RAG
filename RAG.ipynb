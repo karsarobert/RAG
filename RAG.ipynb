{
  "nbformat": 4,
  "nbformat_minor": 0,
  "metadata": {
    "colab": {
      "provenance": [],
      "gpuType": "T4",
      "include_colab_link": true
    },
    "kernelspec": {
      "name": "python3",
      "display_name": "Python 3"
    },
    "language_info": {
      "name": "python"
    },
    "accelerator": "GPU",
    "widgets": {
      "application/vnd.jupyter.widget-state+json": {
        "224c1ede5d2d49368c58d157ea9ddbfb": {
          "model_module": "@jupyter-widgets/controls",
          "model_name": "HBoxModel",
          "model_module_version": "1.5.0",
          "state": {
            "_dom_classes": [],
            "_model_module": "@jupyter-widgets/controls",
            "_model_module_version": "1.5.0",
            "_model_name": "HBoxModel",
            "_view_count": null,
            "_view_module": "@jupyter-widgets/controls",
            "_view_module_version": "1.5.0",
            "_view_name": "HBoxView",
            "box_style": "",
            "children": [
              "IPY_MODEL_83fdb5307de64a14afa3a38ba861c154",
              "IPY_MODEL_b8b80b25dc2a4ec9b9ccdc1de421cd80",
              "IPY_MODEL_0bd504af2f514145aad394f06b3d4f3b"
            ],
            "layout": "IPY_MODEL_17062b3173a84cbb9f250873e4255319"
          }
        },
        "83fdb5307de64a14afa3a38ba861c154": {
          "model_module": "@jupyter-widgets/controls",
          "model_name": "HTMLModel",
          "model_module_version": "1.5.0",
          "state": {
            "_dom_classes": [],
            "_model_module": "@jupyter-widgets/controls",
            "_model_module_version": "1.5.0",
            "_model_name": "HTMLModel",
            "_view_count": null,
            "_view_module": "@jupyter-widgets/controls",
            "_view_module_version": "1.5.0",
            "_view_name": "HTMLView",
            "description": "",
            "description_tooltip": null,
            "layout": "IPY_MODEL_1cdf5d63e4c44475bbdaebd69b088ed4",
            "placeholder": "​",
            "style": "IPY_MODEL_a75dbb0cf9054bd0ba2e48ee59859646",
            "value": "tokenizer_config.json: 100%"
          }
        },
        "b8b80b25dc2a4ec9b9ccdc1de421cd80": {
          "model_module": "@jupyter-widgets/controls",
          "model_name": "FloatProgressModel",
          "model_module_version": "1.5.0",
          "state": {
            "_dom_classes": [],
            "_model_module": "@jupyter-widgets/controls",
            "_model_module_version": "1.5.0",
            "_model_name": "FloatProgressModel",
            "_view_count": null,
            "_view_module": "@jupyter-widgets/controls",
            "_view_module_version": "1.5.0",
            "_view_name": "ProgressView",
            "bar_style": "success",
            "description": "",
            "description_tooltip": null,
            "layout": "IPY_MODEL_4e536bae7dd648e7ac0a52765f77604c",
            "max": 48,
            "min": 0,
            "orientation": "horizontal",
            "style": "IPY_MODEL_37a0e7b184e84530a1a98913e6a06546",
            "value": 48
          }
        },
        "0bd504af2f514145aad394f06b3d4f3b": {
          "model_module": "@jupyter-widgets/controls",
          "model_name": "HTMLModel",
          "model_module_version": "1.5.0",
          "state": {
            "_dom_classes": [],
            "_model_module": "@jupyter-widgets/controls",
            "_model_module_version": "1.5.0",
            "_model_name": "HTMLModel",
            "_view_count": null,
            "_view_module": "@jupyter-widgets/controls",
            "_view_module_version": "1.5.0",
            "_view_name": "HTMLView",
            "description": "",
            "description_tooltip": null,
            "layout": "IPY_MODEL_3b822e43e5b6430b9adf341f2f1fc059",
            "placeholder": "​",
            "style": "IPY_MODEL_ff82dd9f261247e183619d4b71425a00",
            "value": " 48.0/48.0 [00:00&lt;00:00, 4.89kB/s]"
          }
        },
        "17062b3173a84cbb9f250873e4255319": {
          "model_module": "@jupyter-widgets/base",
          "model_name": "LayoutModel",
          "model_module_version": "1.2.0",
          "state": {
            "_model_module": "@jupyter-widgets/base",
            "_model_module_version": "1.2.0",
            "_model_name": "LayoutModel",
            "_view_count": null,
            "_view_module": "@jupyter-widgets/base",
            "_view_module_version": "1.2.0",
            "_view_name": "LayoutView",
            "align_content": null,
            "align_items": null,
            "align_self": null,
            "border": null,
            "bottom": null,
            "display": null,
            "flex": null,
            "flex_flow": null,
            "grid_area": null,
            "grid_auto_columns": null,
            "grid_auto_flow": null,
            "grid_auto_rows": null,
            "grid_column": null,
            "grid_gap": null,
            "grid_row": null,
            "grid_template_areas": null,
            "grid_template_columns": null,
            "grid_template_rows": null,
            "height": null,
            "justify_content": null,
            "justify_items": null,
            "left": null,
            "margin": null,
            "max_height": null,
            "max_width": null,
            "min_height": null,
            "min_width": null,
            "object_fit": null,
            "object_position": null,
            "order": null,
            "overflow": null,
            "overflow_x": null,
            "overflow_y": null,
            "padding": null,
            "right": null,
            "top": null,
            "visibility": null,
            "width": null
          }
        },
        "1cdf5d63e4c44475bbdaebd69b088ed4": {
          "model_module": "@jupyter-widgets/base",
          "model_name": "LayoutModel",
          "model_module_version": "1.2.0",
          "state": {
            "_model_module": "@jupyter-widgets/base",
            "_model_module_version": "1.2.0",
            "_model_name": "LayoutModel",
            "_view_count": null,
            "_view_module": "@jupyter-widgets/base",
            "_view_module_version": "1.2.0",
            "_view_name": "LayoutView",
            "align_content": null,
            "align_items": null,
            "align_self": null,
            "border": null,
            "bottom": null,
            "display": null,
            "flex": null,
            "flex_flow": null,
            "grid_area": null,
            "grid_auto_columns": null,
            "grid_auto_flow": null,
            "grid_auto_rows": null,
            "grid_column": null,
            "grid_gap": null,
            "grid_row": null,
            "grid_template_areas": null,
            "grid_template_columns": null,
            "grid_template_rows": null,
            "height": null,
            "justify_content": null,
            "justify_items": null,
            "left": null,
            "margin": null,
            "max_height": null,
            "max_width": null,
            "min_height": null,
            "min_width": null,
            "object_fit": null,
            "object_position": null,
            "order": null,
            "overflow": null,
            "overflow_x": null,
            "overflow_y": null,
            "padding": null,
            "right": null,
            "top": null,
            "visibility": null,
            "width": null
          }
        },
        "a75dbb0cf9054bd0ba2e48ee59859646": {
          "model_module": "@jupyter-widgets/controls",
          "model_name": "DescriptionStyleModel",
          "model_module_version": "1.5.0",
          "state": {
            "_model_module": "@jupyter-widgets/controls",
            "_model_module_version": "1.5.0",
            "_model_name": "DescriptionStyleModel",
            "_view_count": null,
            "_view_module": "@jupyter-widgets/base",
            "_view_module_version": "1.2.0",
            "_view_name": "StyleView",
            "description_width": ""
          }
        },
        "4e536bae7dd648e7ac0a52765f77604c": {
          "model_module": "@jupyter-widgets/base",
          "model_name": "LayoutModel",
          "model_module_version": "1.2.0",
          "state": {
            "_model_module": "@jupyter-widgets/base",
            "_model_module_version": "1.2.0",
            "_model_name": "LayoutModel",
            "_view_count": null,
            "_view_module": "@jupyter-widgets/base",
            "_view_module_version": "1.2.0",
            "_view_name": "LayoutView",
            "align_content": null,
            "align_items": null,
            "align_self": null,
            "border": null,
            "bottom": null,
            "display": null,
            "flex": null,
            "flex_flow": null,
            "grid_area": null,
            "grid_auto_columns": null,
            "grid_auto_flow": null,
            "grid_auto_rows": null,
            "grid_column": null,
            "grid_gap": null,
            "grid_row": null,
            "grid_template_areas": null,
            "grid_template_columns": null,
            "grid_template_rows": null,
            "height": null,
            "justify_content": null,
            "justify_items": null,
            "left": null,
            "margin": null,
            "max_height": null,
            "max_width": null,
            "min_height": null,
            "min_width": null,
            "object_fit": null,
            "object_position": null,
            "order": null,
            "overflow": null,
            "overflow_x": null,
            "overflow_y": null,
            "padding": null,
            "right": null,
            "top": null,
            "visibility": null,
            "width": null
          }
        },
        "37a0e7b184e84530a1a98913e6a06546": {
          "model_module": "@jupyter-widgets/controls",
          "model_name": "ProgressStyleModel",
          "model_module_version": "1.5.0",
          "state": {
            "_model_module": "@jupyter-widgets/controls",
            "_model_module_version": "1.5.0",
            "_model_name": "ProgressStyleModel",
            "_view_count": null,
            "_view_module": "@jupyter-widgets/base",
            "_view_module_version": "1.2.0",
            "_view_name": "StyleView",
            "bar_color": null,
            "description_width": ""
          }
        },
        "3b822e43e5b6430b9adf341f2f1fc059": {
          "model_module": "@jupyter-widgets/base",
          "model_name": "LayoutModel",
          "model_module_version": "1.2.0",
          "state": {
            "_model_module": "@jupyter-widgets/base",
            "_model_module_version": "1.2.0",
            "_model_name": "LayoutModel",
            "_view_count": null,
            "_view_module": "@jupyter-widgets/base",
            "_view_module_version": "1.2.0",
            "_view_name": "LayoutView",
            "align_content": null,
            "align_items": null,
            "align_self": null,
            "border": null,
            "bottom": null,
            "display": null,
            "flex": null,
            "flex_flow": null,
            "grid_area": null,
            "grid_auto_columns": null,
            "grid_auto_flow": null,
            "grid_auto_rows": null,
            "grid_column": null,
            "grid_gap": null,
            "grid_row": null,
            "grid_template_areas": null,
            "grid_template_columns": null,
            "grid_template_rows": null,
            "height": null,
            "justify_content": null,
            "justify_items": null,
            "left": null,
            "margin": null,
            "max_height": null,
            "max_width": null,
            "min_height": null,
            "min_width": null,
            "object_fit": null,
            "object_position": null,
            "order": null,
            "overflow": null,
            "overflow_x": null,
            "overflow_y": null,
            "padding": null,
            "right": null,
            "top": null,
            "visibility": null,
            "width": null
          }
        },
        "ff82dd9f261247e183619d4b71425a00": {
          "model_module": "@jupyter-widgets/controls",
          "model_name": "DescriptionStyleModel",
          "model_module_version": "1.5.0",
          "state": {
            "_model_module": "@jupyter-widgets/controls",
            "_model_module_version": "1.5.0",
            "_model_name": "DescriptionStyleModel",
            "_view_count": null,
            "_view_module": "@jupyter-widgets/base",
            "_view_module_version": "1.2.0",
            "_view_name": "StyleView",
            "description_width": ""
          }
        },
        "0076710cf6944632b7a3edf736780374": {
          "model_module": "@jupyter-widgets/controls",
          "model_name": "HBoxModel",
          "model_module_version": "1.5.0",
          "state": {
            "_dom_classes": [],
            "_model_module": "@jupyter-widgets/controls",
            "_model_module_version": "1.5.0",
            "_model_name": "HBoxModel",
            "_view_count": null,
            "_view_module": "@jupyter-widgets/controls",
            "_view_module_version": "1.5.0",
            "_view_name": "HBoxView",
            "box_style": "",
            "children": [
              "IPY_MODEL_bdc9e01317404ff4bd676e503744a050",
              "IPY_MODEL_369b4d053f4f4d88b18e0ac026b5dd3e",
              "IPY_MODEL_4ecd078915154e30bcf6f7e117da5199"
            ],
            "layout": "IPY_MODEL_98ad5984a75b450ea39defa50231eabe"
          }
        },
        "bdc9e01317404ff4bd676e503744a050": {
          "model_module": "@jupyter-widgets/controls",
          "model_name": "HTMLModel",
          "model_module_version": "1.5.0",
          "state": {
            "_dom_classes": [],
            "_model_module": "@jupyter-widgets/controls",
            "_model_module_version": "1.5.0",
            "_model_name": "HTMLModel",
            "_view_count": null,
            "_view_module": "@jupyter-widgets/controls",
            "_view_module_version": "1.5.0",
            "_view_name": "HTMLView",
            "description": "",
            "description_tooltip": null,
            "layout": "IPY_MODEL_0bb3bf758fe845a582ba4149a836fcc8",
            "placeholder": "​",
            "style": "IPY_MODEL_4a0b1e5ff2ee490cabbbd5711d4c4ad7",
            "value": "vocab.txt: 100%"
          }
        },
        "369b4d053f4f4d88b18e0ac026b5dd3e": {
          "model_module": "@jupyter-widgets/controls",
          "model_name": "FloatProgressModel",
          "model_module_version": "1.5.0",
          "state": {
            "_dom_classes": [],
            "_model_module": "@jupyter-widgets/controls",
            "_model_module_version": "1.5.0",
            "_model_name": "FloatProgressModel",
            "_view_count": null,
            "_view_module": "@jupyter-widgets/controls",
            "_view_module_version": "1.5.0",
            "_view_name": "ProgressView",
            "bar_style": "success",
            "description": "",
            "description_tooltip": null,
            "layout": "IPY_MODEL_a32780efa4f444d3bc76a033e0358ac7",
            "max": 231508,
            "min": 0,
            "orientation": "horizontal",
            "style": "IPY_MODEL_4937b3a472004f9b9c80ebdcadd3354a",
            "value": 231508
          }
        },
        "4ecd078915154e30bcf6f7e117da5199": {
          "model_module": "@jupyter-widgets/controls",
          "model_name": "HTMLModel",
          "model_module_version": "1.5.0",
          "state": {
            "_dom_classes": [],
            "_model_module": "@jupyter-widgets/controls",
            "_model_module_version": "1.5.0",
            "_model_name": "HTMLModel",
            "_view_count": null,
            "_view_module": "@jupyter-widgets/controls",
            "_view_module_version": "1.5.0",
            "_view_name": "HTMLView",
            "description": "",
            "description_tooltip": null,
            "layout": "IPY_MODEL_3f260a9d31d641dbaa3e6e1abbbd1e4c",
            "placeholder": "​",
            "style": "IPY_MODEL_684042f73a744050b264fde7e25aff29",
            "value": " 232k/232k [00:00&lt;00:00, 6.77MB/s]"
          }
        },
        "98ad5984a75b450ea39defa50231eabe": {
          "model_module": "@jupyter-widgets/base",
          "model_name": "LayoutModel",
          "model_module_version": "1.2.0",
          "state": {
            "_model_module": "@jupyter-widgets/base",
            "_model_module_version": "1.2.0",
            "_model_name": "LayoutModel",
            "_view_count": null,
            "_view_module": "@jupyter-widgets/base",
            "_view_module_version": "1.2.0",
            "_view_name": "LayoutView",
            "align_content": null,
            "align_items": null,
            "align_self": null,
            "border": null,
            "bottom": null,
            "display": null,
            "flex": null,
            "flex_flow": null,
            "grid_area": null,
            "grid_auto_columns": null,
            "grid_auto_flow": null,
            "grid_auto_rows": null,
            "grid_column": null,
            "grid_gap": null,
            "grid_row": null,
            "grid_template_areas": null,
            "grid_template_columns": null,
            "grid_template_rows": null,
            "height": null,
            "justify_content": null,
            "justify_items": null,
            "left": null,
            "margin": null,
            "max_height": null,
            "max_width": null,
            "min_height": null,
            "min_width": null,
            "object_fit": null,
            "object_position": null,
            "order": null,
            "overflow": null,
            "overflow_x": null,
            "overflow_y": null,
            "padding": null,
            "right": null,
            "top": null,
            "visibility": null,
            "width": null
          }
        },
        "0bb3bf758fe845a582ba4149a836fcc8": {
          "model_module": "@jupyter-widgets/base",
          "model_name": "LayoutModel",
          "model_module_version": "1.2.0",
          "state": {
            "_model_module": "@jupyter-widgets/base",
            "_model_module_version": "1.2.0",
            "_model_name": "LayoutModel",
            "_view_count": null,
            "_view_module": "@jupyter-widgets/base",
            "_view_module_version": "1.2.0",
            "_view_name": "LayoutView",
            "align_content": null,
            "align_items": null,
            "align_self": null,
            "border": null,
            "bottom": null,
            "display": null,
            "flex": null,
            "flex_flow": null,
            "grid_area": null,
            "grid_auto_columns": null,
            "grid_auto_flow": null,
            "grid_auto_rows": null,
            "grid_column": null,
            "grid_gap": null,
            "grid_row": null,
            "grid_template_areas": null,
            "grid_template_columns": null,
            "grid_template_rows": null,
            "height": null,
            "justify_content": null,
            "justify_items": null,
            "left": null,
            "margin": null,
            "max_height": null,
            "max_width": null,
            "min_height": null,
            "min_width": null,
            "object_fit": null,
            "object_position": null,
            "order": null,
            "overflow": null,
            "overflow_x": null,
            "overflow_y": null,
            "padding": null,
            "right": null,
            "top": null,
            "visibility": null,
            "width": null
          }
        },
        "4a0b1e5ff2ee490cabbbd5711d4c4ad7": {
          "model_module": "@jupyter-widgets/controls",
          "model_name": "DescriptionStyleModel",
          "model_module_version": "1.5.0",
          "state": {
            "_model_module": "@jupyter-widgets/controls",
            "_model_module_version": "1.5.0",
            "_model_name": "DescriptionStyleModel",
            "_view_count": null,
            "_view_module": "@jupyter-widgets/base",
            "_view_module_version": "1.2.0",
            "_view_name": "StyleView",
            "description_width": ""
          }
        },
        "a32780efa4f444d3bc76a033e0358ac7": {
          "model_module": "@jupyter-widgets/base",
          "model_name": "LayoutModel",
          "model_module_version": "1.2.0",
          "state": {
            "_model_module": "@jupyter-widgets/base",
            "_model_module_version": "1.2.0",
            "_model_name": "LayoutModel",
            "_view_count": null,
            "_view_module": "@jupyter-widgets/base",
            "_view_module_version": "1.2.0",
            "_view_name": "LayoutView",
            "align_content": null,
            "align_items": null,
            "align_self": null,
            "border": null,
            "bottom": null,
            "display": null,
            "flex": null,
            "flex_flow": null,
            "grid_area": null,
            "grid_auto_columns": null,
            "grid_auto_flow": null,
            "grid_auto_rows": null,
            "grid_column": null,
            "grid_gap": null,
            "grid_row": null,
            "grid_template_areas": null,
            "grid_template_columns": null,
            "grid_template_rows": null,
            "height": null,
            "justify_content": null,
            "justify_items": null,
            "left": null,
            "margin": null,
            "max_height": null,
            "max_width": null,
            "min_height": null,
            "min_width": null,
            "object_fit": null,
            "object_position": null,
            "order": null,
            "overflow": null,
            "overflow_x": null,
            "overflow_y": null,
            "padding": null,
            "right": null,
            "top": null,
            "visibility": null,
            "width": null
          }
        },
        "4937b3a472004f9b9c80ebdcadd3354a": {
          "model_module": "@jupyter-widgets/controls",
          "model_name": "ProgressStyleModel",
          "model_module_version": "1.5.0",
          "state": {
            "_model_module": "@jupyter-widgets/controls",
            "_model_module_version": "1.5.0",
            "_model_name": "ProgressStyleModel",
            "_view_count": null,
            "_view_module": "@jupyter-widgets/base",
            "_view_module_version": "1.2.0",
            "_view_name": "StyleView",
            "bar_color": null,
            "description_width": ""
          }
        },
        "3f260a9d31d641dbaa3e6e1abbbd1e4c": {
          "model_module": "@jupyter-widgets/base",
          "model_name": "LayoutModel",
          "model_module_version": "1.2.0",
          "state": {
            "_model_module": "@jupyter-widgets/base",
            "_model_module_version": "1.2.0",
            "_model_name": "LayoutModel",
            "_view_count": null,
            "_view_module": "@jupyter-widgets/base",
            "_view_module_version": "1.2.0",
            "_view_name": "LayoutView",
            "align_content": null,
            "align_items": null,
            "align_self": null,
            "border": null,
            "bottom": null,
            "display": null,
            "flex": null,
            "flex_flow": null,
            "grid_area": null,
            "grid_auto_columns": null,
            "grid_auto_flow": null,
            "grid_auto_rows": null,
            "grid_column": null,
            "grid_gap": null,
            "grid_row": null,
            "grid_template_areas": null,
            "grid_template_columns": null,
            "grid_template_rows": null,
            "height": null,
            "justify_content": null,
            "justify_items": null,
            "left": null,
            "margin": null,
            "max_height": null,
            "max_width": null,
            "min_height": null,
            "min_width": null,
            "object_fit": null,
            "object_position": null,
            "order": null,
            "overflow": null,
            "overflow_x": null,
            "overflow_y": null,
            "padding": null,
            "right": null,
            "top": null,
            "visibility": null,
            "width": null
          }
        },
        "684042f73a744050b264fde7e25aff29": {
          "model_module": "@jupyter-widgets/controls",
          "model_name": "DescriptionStyleModel",
          "model_module_version": "1.5.0",
          "state": {
            "_model_module": "@jupyter-widgets/controls",
            "_model_module_version": "1.5.0",
            "_model_name": "DescriptionStyleModel",
            "_view_count": null,
            "_view_module": "@jupyter-widgets/base",
            "_view_module_version": "1.2.0",
            "_view_name": "StyleView",
            "description_width": ""
          }
        },
        "1f6d392ca7d1481f97d03973a75dfac9": {
          "model_module": "@jupyter-widgets/controls",
          "model_name": "HBoxModel",
          "model_module_version": "1.5.0",
          "state": {
            "_dom_classes": [],
            "_model_module": "@jupyter-widgets/controls",
            "_model_module_version": "1.5.0",
            "_model_name": "HBoxModel",
            "_view_count": null,
            "_view_module": "@jupyter-widgets/controls",
            "_view_module_version": "1.5.0",
            "_view_name": "HBoxView",
            "box_style": "",
            "children": [
              "IPY_MODEL_977e093814b84e0391b014851c0cc886",
              "IPY_MODEL_c5a47a19a5304335a5f87c4e1ffc1a9c",
              "IPY_MODEL_6fce6cdf2e93409abe7a4485ae774cf3"
            ],
            "layout": "IPY_MODEL_83d1ba6481b64e4fa67eecc51ffb285c"
          }
        },
        "977e093814b84e0391b014851c0cc886": {
          "model_module": "@jupyter-widgets/controls",
          "model_name": "HTMLModel",
          "model_module_version": "1.5.0",
          "state": {
            "_dom_classes": [],
            "_model_module": "@jupyter-widgets/controls",
            "_model_module_version": "1.5.0",
            "_model_name": "HTMLModel",
            "_view_count": null,
            "_view_module": "@jupyter-widgets/controls",
            "_view_module_version": "1.5.0",
            "_view_name": "HTMLView",
            "description": "",
            "description_tooltip": null,
            "layout": "IPY_MODEL_d64800327e66449c8f8732715d2fd444",
            "placeholder": "​",
            "style": "IPY_MODEL_088bd01d0bdb4d37ac0831ab4a8d5b8a",
            "value": "tokenizer.json: 100%"
          }
        },
        "c5a47a19a5304335a5f87c4e1ffc1a9c": {
          "model_module": "@jupyter-widgets/controls",
          "model_name": "FloatProgressModel",
          "model_module_version": "1.5.0",
          "state": {
            "_dom_classes": [],
            "_model_module": "@jupyter-widgets/controls",
            "_model_module_version": "1.5.0",
            "_model_name": "FloatProgressModel",
            "_view_count": null,
            "_view_module": "@jupyter-widgets/controls",
            "_view_module_version": "1.5.0",
            "_view_name": "ProgressView",
            "bar_style": "success",
            "description": "",
            "description_tooltip": null,
            "layout": "IPY_MODEL_8ad5aa5bf973463a875ca942881768d3",
            "max": 466062,
            "min": 0,
            "orientation": "horizontal",
            "style": "IPY_MODEL_b23d7cf6610d47df863c89367edca08a",
            "value": 466062
          }
        },
        "6fce6cdf2e93409abe7a4485ae774cf3": {
          "model_module": "@jupyter-widgets/controls",
          "model_name": "HTMLModel",
          "model_module_version": "1.5.0",
          "state": {
            "_dom_classes": [],
            "_model_module": "@jupyter-widgets/controls",
            "_model_module_version": "1.5.0",
            "_model_name": "HTMLModel",
            "_view_count": null,
            "_view_module": "@jupyter-widgets/controls",
            "_view_module_version": "1.5.0",
            "_view_name": "HTMLView",
            "description": "",
            "description_tooltip": null,
            "layout": "IPY_MODEL_8e5b914d861e483b912f5389a31a2b05",
            "placeholder": "​",
            "style": "IPY_MODEL_27843c3becef4a4d8b026347b4ce7e74",
            "value": " 466k/466k [00:00&lt;00:00, 28.7MB/s]"
          }
        },
        "83d1ba6481b64e4fa67eecc51ffb285c": {
          "model_module": "@jupyter-widgets/base",
          "model_name": "LayoutModel",
          "model_module_version": "1.2.0",
          "state": {
            "_model_module": "@jupyter-widgets/base",
            "_model_module_version": "1.2.0",
            "_model_name": "LayoutModel",
            "_view_count": null,
            "_view_module": "@jupyter-widgets/base",
            "_view_module_version": "1.2.0",
            "_view_name": "LayoutView",
            "align_content": null,
            "align_items": null,
            "align_self": null,
            "border": null,
            "bottom": null,
            "display": null,
            "flex": null,
            "flex_flow": null,
            "grid_area": null,
            "grid_auto_columns": null,
            "grid_auto_flow": null,
            "grid_auto_rows": null,
            "grid_column": null,
            "grid_gap": null,
            "grid_row": null,
            "grid_template_areas": null,
            "grid_template_columns": null,
            "grid_template_rows": null,
            "height": null,
            "justify_content": null,
            "justify_items": null,
            "left": null,
            "margin": null,
            "max_height": null,
            "max_width": null,
            "min_height": null,
            "min_width": null,
            "object_fit": null,
            "object_position": null,
            "order": null,
            "overflow": null,
            "overflow_x": null,
            "overflow_y": null,
            "padding": null,
            "right": null,
            "top": null,
            "visibility": null,
            "width": null
          }
        },
        "d64800327e66449c8f8732715d2fd444": {
          "model_module": "@jupyter-widgets/base",
          "model_name": "LayoutModel",
          "model_module_version": "1.2.0",
          "state": {
            "_model_module": "@jupyter-widgets/base",
            "_model_module_version": "1.2.0",
            "_model_name": "LayoutModel",
            "_view_count": null,
            "_view_module": "@jupyter-widgets/base",
            "_view_module_version": "1.2.0",
            "_view_name": "LayoutView",
            "align_content": null,
            "align_items": null,
            "align_self": null,
            "border": null,
            "bottom": null,
            "display": null,
            "flex": null,
            "flex_flow": null,
            "grid_area": null,
            "grid_auto_columns": null,
            "grid_auto_flow": null,
            "grid_auto_rows": null,
            "grid_column": null,
            "grid_gap": null,
            "grid_row": null,
            "grid_template_areas": null,
            "grid_template_columns": null,
            "grid_template_rows": null,
            "height": null,
            "justify_content": null,
            "justify_items": null,
            "left": null,
            "margin": null,
            "max_height": null,
            "max_width": null,
            "min_height": null,
            "min_width": null,
            "object_fit": null,
            "object_position": null,
            "order": null,
            "overflow": null,
            "overflow_x": null,
            "overflow_y": null,
            "padding": null,
            "right": null,
            "top": null,
            "visibility": null,
            "width": null
          }
        },
        "088bd01d0bdb4d37ac0831ab4a8d5b8a": {
          "model_module": "@jupyter-widgets/controls",
          "model_name": "DescriptionStyleModel",
          "model_module_version": "1.5.0",
          "state": {
            "_model_module": "@jupyter-widgets/controls",
            "_model_module_version": "1.5.0",
            "_model_name": "DescriptionStyleModel",
            "_view_count": null,
            "_view_module": "@jupyter-widgets/base",
            "_view_module_version": "1.2.0",
            "_view_name": "StyleView",
            "description_width": ""
          }
        },
        "8ad5aa5bf973463a875ca942881768d3": {
          "model_module": "@jupyter-widgets/base",
          "model_name": "LayoutModel",
          "model_module_version": "1.2.0",
          "state": {
            "_model_module": "@jupyter-widgets/base",
            "_model_module_version": "1.2.0",
            "_model_name": "LayoutModel",
            "_view_count": null,
            "_view_module": "@jupyter-widgets/base",
            "_view_module_version": "1.2.0",
            "_view_name": "LayoutView",
            "align_content": null,
            "align_items": null,
            "align_self": null,
            "border": null,
            "bottom": null,
            "display": null,
            "flex": null,
            "flex_flow": null,
            "grid_area": null,
            "grid_auto_columns": null,
            "grid_auto_flow": null,
            "grid_auto_rows": null,
            "grid_column": null,
            "grid_gap": null,
            "grid_row": null,
            "grid_template_areas": null,
            "grid_template_columns": null,
            "grid_template_rows": null,
            "height": null,
            "justify_content": null,
            "justify_items": null,
            "left": null,
            "margin": null,
            "max_height": null,
            "max_width": null,
            "min_height": null,
            "min_width": null,
            "object_fit": null,
            "object_position": null,
            "order": null,
            "overflow": null,
            "overflow_x": null,
            "overflow_y": null,
            "padding": null,
            "right": null,
            "top": null,
            "visibility": null,
            "width": null
          }
        },
        "b23d7cf6610d47df863c89367edca08a": {
          "model_module": "@jupyter-widgets/controls",
          "model_name": "ProgressStyleModel",
          "model_module_version": "1.5.0",
          "state": {
            "_model_module": "@jupyter-widgets/controls",
            "_model_module_version": "1.5.0",
            "_model_name": "ProgressStyleModel",
            "_view_count": null,
            "_view_module": "@jupyter-widgets/base",
            "_view_module_version": "1.2.0",
            "_view_name": "StyleView",
            "bar_color": null,
            "description_width": ""
          }
        },
        "8e5b914d861e483b912f5389a31a2b05": {
          "model_module": "@jupyter-widgets/base",
          "model_name": "LayoutModel",
          "model_module_version": "1.2.0",
          "state": {
            "_model_module": "@jupyter-widgets/base",
            "_model_module_version": "1.2.0",
            "_model_name": "LayoutModel",
            "_view_count": null,
            "_view_module": "@jupyter-widgets/base",
            "_view_module_version": "1.2.0",
            "_view_name": "LayoutView",
            "align_content": null,
            "align_items": null,
            "align_self": null,
            "border": null,
            "bottom": null,
            "display": null,
            "flex": null,
            "flex_flow": null,
            "grid_area": null,
            "grid_auto_columns": null,
            "grid_auto_flow": null,
            "grid_auto_rows": null,
            "grid_column": null,
            "grid_gap": null,
            "grid_row": null,
            "grid_template_areas": null,
            "grid_template_columns": null,
            "grid_template_rows": null,
            "height": null,
            "justify_content": null,
            "justify_items": null,
            "left": null,
            "margin": null,
            "max_height": null,
            "max_width": null,
            "min_height": null,
            "min_width": null,
            "object_fit": null,
            "object_position": null,
            "order": null,
            "overflow": null,
            "overflow_x": null,
            "overflow_y": null,
            "padding": null,
            "right": null,
            "top": null,
            "visibility": null,
            "width": null
          }
        },
        "27843c3becef4a4d8b026347b4ce7e74": {
          "model_module": "@jupyter-widgets/controls",
          "model_name": "DescriptionStyleModel",
          "model_module_version": "1.5.0",
          "state": {
            "_model_module": "@jupyter-widgets/controls",
            "_model_module_version": "1.5.0",
            "_model_name": "DescriptionStyleModel",
            "_view_count": null,
            "_view_module": "@jupyter-widgets/base",
            "_view_module_version": "1.2.0",
            "_view_name": "StyleView",
            "description_width": ""
          }
        },
        "167d359afa434095acf826e9f22f9b29": {
          "model_module": "@jupyter-widgets/controls",
          "model_name": "HBoxModel",
          "model_module_version": "1.5.0",
          "state": {
            "_dom_classes": [],
            "_model_module": "@jupyter-widgets/controls",
            "_model_module_version": "1.5.0",
            "_model_name": "HBoxModel",
            "_view_count": null,
            "_view_module": "@jupyter-widgets/controls",
            "_view_module_version": "1.5.0",
            "_view_name": "HBoxView",
            "box_style": "",
            "children": [
              "IPY_MODEL_d25a3a86aed34b1ebd87c05028bb507f",
              "IPY_MODEL_78098597a2374dbc8de5c9b2c86f56ab",
              "IPY_MODEL_c30698ff60ee4ac186bc0a5fee081a21"
            ],
            "layout": "IPY_MODEL_42ff9d3d4b834817aee7136dc4a2a058"
          }
        },
        "d25a3a86aed34b1ebd87c05028bb507f": {
          "model_module": "@jupyter-widgets/controls",
          "model_name": "HTMLModel",
          "model_module_version": "1.5.0",
          "state": {
            "_dom_classes": [],
            "_model_module": "@jupyter-widgets/controls",
            "_model_module_version": "1.5.0",
            "_model_name": "HTMLModel",
            "_view_count": null,
            "_view_module": "@jupyter-widgets/controls",
            "_view_module_version": "1.5.0",
            "_view_name": "HTMLView",
            "description": "",
            "description_tooltip": null,
            "layout": "IPY_MODEL_1fc3a2357ec8464abf8aebe751fc4112",
            "placeholder": "​",
            "style": "IPY_MODEL_a5959f97a56542c78d6303468b699584",
            "value": "config.json: 100%"
          }
        },
        "78098597a2374dbc8de5c9b2c86f56ab": {
          "model_module": "@jupyter-widgets/controls",
          "model_name": "FloatProgressModel",
          "model_module_version": "1.5.0",
          "state": {
            "_dom_classes": [],
            "_model_module": "@jupyter-widgets/controls",
            "_model_module_version": "1.5.0",
            "_model_name": "FloatProgressModel",
            "_view_count": null,
            "_view_module": "@jupyter-widgets/controls",
            "_view_module_version": "1.5.0",
            "_view_name": "ProgressView",
            "bar_style": "success",
            "description": "",
            "description_tooltip": null,
            "layout": "IPY_MODEL_c5cd857ed9284ce089e0e78c04f5da08",
            "max": 570,
            "min": 0,
            "orientation": "horizontal",
            "style": "IPY_MODEL_6985b865d1444b29a9adb85e8f07807e",
            "value": 570
          }
        },
        "c30698ff60ee4ac186bc0a5fee081a21": {
          "model_module": "@jupyter-widgets/controls",
          "model_name": "HTMLModel",
          "model_module_version": "1.5.0",
          "state": {
            "_dom_classes": [],
            "_model_module": "@jupyter-widgets/controls",
            "_model_module_version": "1.5.0",
            "_model_name": "HTMLModel",
            "_view_count": null,
            "_view_module": "@jupyter-widgets/controls",
            "_view_module_version": "1.5.0",
            "_view_name": "HTMLView",
            "description": "",
            "description_tooltip": null,
            "layout": "IPY_MODEL_86daae0d6e224a2d8f3f53b34fd207dd",
            "placeholder": "​",
            "style": "IPY_MODEL_92883247ab50499f816a7fc2e5fb978d",
            "value": " 570/570 [00:00&lt;00:00, 62.3kB/s]"
          }
        },
        "42ff9d3d4b834817aee7136dc4a2a058": {
          "model_module": "@jupyter-widgets/base",
          "model_name": "LayoutModel",
          "model_module_version": "1.2.0",
          "state": {
            "_model_module": "@jupyter-widgets/base",
            "_model_module_version": "1.2.0",
            "_model_name": "LayoutModel",
            "_view_count": null,
            "_view_module": "@jupyter-widgets/base",
            "_view_module_version": "1.2.0",
            "_view_name": "LayoutView",
            "align_content": null,
            "align_items": null,
            "align_self": null,
            "border": null,
            "bottom": null,
            "display": null,
            "flex": null,
            "flex_flow": null,
            "grid_area": null,
            "grid_auto_columns": null,
            "grid_auto_flow": null,
            "grid_auto_rows": null,
            "grid_column": null,
            "grid_gap": null,
            "grid_row": null,
            "grid_template_areas": null,
            "grid_template_columns": null,
            "grid_template_rows": null,
            "height": null,
            "justify_content": null,
            "justify_items": null,
            "left": null,
            "margin": null,
            "max_height": null,
            "max_width": null,
            "min_height": null,
            "min_width": null,
            "object_fit": null,
            "object_position": null,
            "order": null,
            "overflow": null,
            "overflow_x": null,
            "overflow_y": null,
            "padding": null,
            "right": null,
            "top": null,
            "visibility": null,
            "width": null
          }
        },
        "1fc3a2357ec8464abf8aebe751fc4112": {
          "model_module": "@jupyter-widgets/base",
          "model_name": "LayoutModel",
          "model_module_version": "1.2.0",
          "state": {
            "_model_module": "@jupyter-widgets/base",
            "_model_module_version": "1.2.0",
            "_model_name": "LayoutModel",
            "_view_count": null,
            "_view_module": "@jupyter-widgets/base",
            "_view_module_version": "1.2.0",
            "_view_name": "LayoutView",
            "align_content": null,
            "align_items": null,
            "align_self": null,
            "border": null,
            "bottom": null,
            "display": null,
            "flex": null,
            "flex_flow": null,
            "grid_area": null,
            "grid_auto_columns": null,
            "grid_auto_flow": null,
            "grid_auto_rows": null,
            "grid_column": null,
            "grid_gap": null,
            "grid_row": null,
            "grid_template_areas": null,
            "grid_template_columns": null,
            "grid_template_rows": null,
            "height": null,
            "justify_content": null,
            "justify_items": null,
            "left": null,
            "margin": null,
            "max_height": null,
            "max_width": null,
            "min_height": null,
            "min_width": null,
            "object_fit": null,
            "object_position": null,
            "order": null,
            "overflow": null,
            "overflow_x": null,
            "overflow_y": null,
            "padding": null,
            "right": null,
            "top": null,
            "visibility": null,
            "width": null
          }
        },
        "a5959f97a56542c78d6303468b699584": {
          "model_module": "@jupyter-widgets/controls",
          "model_name": "DescriptionStyleModel",
          "model_module_version": "1.5.0",
          "state": {
            "_model_module": "@jupyter-widgets/controls",
            "_model_module_version": "1.5.0",
            "_model_name": "DescriptionStyleModel",
            "_view_count": null,
            "_view_module": "@jupyter-widgets/base",
            "_view_module_version": "1.2.0",
            "_view_name": "StyleView",
            "description_width": ""
          }
        },
        "c5cd857ed9284ce089e0e78c04f5da08": {
          "model_module": "@jupyter-widgets/base",
          "model_name": "LayoutModel",
          "model_module_version": "1.2.0",
          "state": {
            "_model_module": "@jupyter-widgets/base",
            "_model_module_version": "1.2.0",
            "_model_name": "LayoutModel",
            "_view_count": null,
            "_view_module": "@jupyter-widgets/base",
            "_view_module_version": "1.2.0",
            "_view_name": "LayoutView",
            "align_content": null,
            "align_items": null,
            "align_self": null,
            "border": null,
            "bottom": null,
            "display": null,
            "flex": null,
            "flex_flow": null,
            "grid_area": null,
            "grid_auto_columns": null,
            "grid_auto_flow": null,
            "grid_auto_rows": null,
            "grid_column": null,
            "grid_gap": null,
            "grid_row": null,
            "grid_template_areas": null,
            "grid_template_columns": null,
            "grid_template_rows": null,
            "height": null,
            "justify_content": null,
            "justify_items": null,
            "left": null,
            "margin": null,
            "max_height": null,
            "max_width": null,
            "min_height": null,
            "min_width": null,
            "object_fit": null,
            "object_position": null,
            "order": null,
            "overflow": null,
            "overflow_x": null,
            "overflow_y": null,
            "padding": null,
            "right": null,
            "top": null,
            "visibility": null,
            "width": null
          }
        },
        "6985b865d1444b29a9adb85e8f07807e": {
          "model_module": "@jupyter-widgets/controls",
          "model_name": "ProgressStyleModel",
          "model_module_version": "1.5.0",
          "state": {
            "_model_module": "@jupyter-widgets/controls",
            "_model_module_version": "1.5.0",
            "_model_name": "ProgressStyleModel",
            "_view_count": null,
            "_view_module": "@jupyter-widgets/base",
            "_view_module_version": "1.2.0",
            "_view_name": "StyleView",
            "bar_color": null,
            "description_width": ""
          }
        },
        "86daae0d6e224a2d8f3f53b34fd207dd": {
          "model_module": "@jupyter-widgets/base",
          "model_name": "LayoutModel",
          "model_module_version": "1.2.0",
          "state": {
            "_model_module": "@jupyter-widgets/base",
            "_model_module_version": "1.2.0",
            "_model_name": "LayoutModel",
            "_view_count": null,
            "_view_module": "@jupyter-widgets/base",
            "_view_module_version": "1.2.0",
            "_view_name": "LayoutView",
            "align_content": null,
            "align_items": null,
            "align_self": null,
            "border": null,
            "bottom": null,
            "display": null,
            "flex": null,
            "flex_flow": null,
            "grid_area": null,
            "grid_auto_columns": null,
            "grid_auto_flow": null,
            "grid_auto_rows": null,
            "grid_column": null,
            "grid_gap": null,
            "grid_row": null,
            "grid_template_areas": null,
            "grid_template_columns": null,
            "grid_template_rows": null,
            "height": null,
            "justify_content": null,
            "justify_items": null,
            "left": null,
            "margin": null,
            "max_height": null,
            "max_width": null,
            "min_height": null,
            "min_width": null,
            "object_fit": null,
            "object_position": null,
            "order": null,
            "overflow": null,
            "overflow_x": null,
            "overflow_y": null,
            "padding": null,
            "right": null,
            "top": null,
            "visibility": null,
            "width": null
          }
        },
        "92883247ab50499f816a7fc2e5fb978d": {
          "model_module": "@jupyter-widgets/controls",
          "model_name": "DescriptionStyleModel",
          "model_module_version": "1.5.0",
          "state": {
            "_model_module": "@jupyter-widgets/controls",
            "_model_module_version": "1.5.0",
            "_model_name": "DescriptionStyleModel",
            "_view_count": null,
            "_view_module": "@jupyter-widgets/base",
            "_view_module_version": "1.2.0",
            "_view_name": "StyleView",
            "description_width": ""
          }
        },
        "63e34a18e9c24faaaed3f16bce7c4c50": {
          "model_module": "@jupyter-widgets/controls",
          "model_name": "HBoxModel",
          "model_module_version": "1.5.0",
          "state": {
            "_dom_classes": [],
            "_model_module": "@jupyter-widgets/controls",
            "_model_module_version": "1.5.0",
            "_model_name": "HBoxModel",
            "_view_count": null,
            "_view_module": "@jupyter-widgets/controls",
            "_view_module_version": "1.5.0",
            "_view_name": "HBoxView",
            "box_style": "",
            "children": [
              "IPY_MODEL_89f007e818ab4e28869f3c5e9dbd977c",
              "IPY_MODEL_da74d6e3e8c34683beb3dd2e83b37fef",
              "IPY_MODEL_79a95d28c4444efbb67db0dde1260e9f"
            ],
            "layout": "IPY_MODEL_fa84f7db01cb4b8f8903f44cdc8a4bf2"
          }
        },
        "89f007e818ab4e28869f3c5e9dbd977c": {
          "model_module": "@jupyter-widgets/controls",
          "model_name": "HTMLModel",
          "model_module_version": "1.5.0",
          "state": {
            "_dom_classes": [],
            "_model_module": "@jupyter-widgets/controls",
            "_model_module_version": "1.5.0",
            "_model_name": "HTMLModel",
            "_view_count": null,
            "_view_module": "@jupyter-widgets/controls",
            "_view_module_version": "1.5.0",
            "_view_name": "HTMLView",
            "description": "",
            "description_tooltip": null,
            "layout": "IPY_MODEL_2043675462b941a4af5fac6f6c6e87bb",
            "placeholder": "​",
            "style": "IPY_MODEL_3ead68a95c6c48dd9c23db8e41afc0de",
            "value": "model.safetensors: 100%"
          }
        },
        "da74d6e3e8c34683beb3dd2e83b37fef": {
          "model_module": "@jupyter-widgets/controls",
          "model_name": "FloatProgressModel",
          "model_module_version": "1.5.0",
          "state": {
            "_dom_classes": [],
            "_model_module": "@jupyter-widgets/controls",
            "_model_module_version": "1.5.0",
            "_model_name": "FloatProgressModel",
            "_view_count": null,
            "_view_module": "@jupyter-widgets/controls",
            "_view_module_version": "1.5.0",
            "_view_name": "ProgressView",
            "bar_style": "success",
            "description": "",
            "description_tooltip": null,
            "layout": "IPY_MODEL_d45daccf9bb54982a96e45b8b6df16fc",
            "max": 440449768,
            "min": 0,
            "orientation": "horizontal",
            "style": "IPY_MODEL_84fc519bde4644e68611ba444141bbca",
            "value": 440449768
          }
        },
        "79a95d28c4444efbb67db0dde1260e9f": {
          "model_module": "@jupyter-widgets/controls",
          "model_name": "HTMLModel",
          "model_module_version": "1.5.0",
          "state": {
            "_dom_classes": [],
            "_model_module": "@jupyter-widgets/controls",
            "_model_module_version": "1.5.0",
            "_model_name": "HTMLModel",
            "_view_count": null,
            "_view_module": "@jupyter-widgets/controls",
            "_view_module_version": "1.5.0",
            "_view_name": "HTMLView",
            "description": "",
            "description_tooltip": null,
            "layout": "IPY_MODEL_6f7417243ce749b5a8334e968c77eef4",
            "placeholder": "​",
            "style": "IPY_MODEL_8c1419e04a604728bd0deaa2021922da",
            "value": " 440M/440M [00:01&lt;00:00, 286MB/s]"
          }
        },
        "fa84f7db01cb4b8f8903f44cdc8a4bf2": {
          "model_module": "@jupyter-widgets/base",
          "model_name": "LayoutModel",
          "model_module_version": "1.2.0",
          "state": {
            "_model_module": "@jupyter-widgets/base",
            "_model_module_version": "1.2.0",
            "_model_name": "LayoutModel",
            "_view_count": null,
            "_view_module": "@jupyter-widgets/base",
            "_view_module_version": "1.2.0",
            "_view_name": "LayoutView",
            "align_content": null,
            "align_items": null,
            "align_self": null,
            "border": null,
            "bottom": null,
            "display": null,
            "flex": null,
            "flex_flow": null,
            "grid_area": null,
            "grid_auto_columns": null,
            "grid_auto_flow": null,
            "grid_auto_rows": null,
            "grid_column": null,
            "grid_gap": null,
            "grid_row": null,
            "grid_template_areas": null,
            "grid_template_columns": null,
            "grid_template_rows": null,
            "height": null,
            "justify_content": null,
            "justify_items": null,
            "left": null,
            "margin": null,
            "max_height": null,
            "max_width": null,
            "min_height": null,
            "min_width": null,
            "object_fit": null,
            "object_position": null,
            "order": null,
            "overflow": null,
            "overflow_x": null,
            "overflow_y": null,
            "padding": null,
            "right": null,
            "top": null,
            "visibility": null,
            "width": null
          }
        },
        "2043675462b941a4af5fac6f6c6e87bb": {
          "model_module": "@jupyter-widgets/base",
          "model_name": "LayoutModel",
          "model_module_version": "1.2.0",
          "state": {
            "_model_module": "@jupyter-widgets/base",
            "_model_module_version": "1.2.0",
            "_model_name": "LayoutModel",
            "_view_count": null,
            "_view_module": "@jupyter-widgets/base",
            "_view_module_version": "1.2.0",
            "_view_name": "LayoutView",
            "align_content": null,
            "align_items": null,
            "align_self": null,
            "border": null,
            "bottom": null,
            "display": null,
            "flex": null,
            "flex_flow": null,
            "grid_area": null,
            "grid_auto_columns": null,
            "grid_auto_flow": null,
            "grid_auto_rows": null,
            "grid_column": null,
            "grid_gap": null,
            "grid_row": null,
            "grid_template_areas": null,
            "grid_template_columns": null,
            "grid_template_rows": null,
            "height": null,
            "justify_content": null,
            "justify_items": null,
            "left": null,
            "margin": null,
            "max_height": null,
            "max_width": null,
            "min_height": null,
            "min_width": null,
            "object_fit": null,
            "object_position": null,
            "order": null,
            "overflow": null,
            "overflow_x": null,
            "overflow_y": null,
            "padding": null,
            "right": null,
            "top": null,
            "visibility": null,
            "width": null
          }
        },
        "3ead68a95c6c48dd9c23db8e41afc0de": {
          "model_module": "@jupyter-widgets/controls",
          "model_name": "DescriptionStyleModel",
          "model_module_version": "1.5.0",
          "state": {
            "_model_module": "@jupyter-widgets/controls",
            "_model_module_version": "1.5.0",
            "_model_name": "DescriptionStyleModel",
            "_view_count": null,
            "_view_module": "@jupyter-widgets/base",
            "_view_module_version": "1.2.0",
            "_view_name": "StyleView",
            "description_width": ""
          }
        },
        "d45daccf9bb54982a96e45b8b6df16fc": {
          "model_module": "@jupyter-widgets/base",
          "model_name": "LayoutModel",
          "model_module_version": "1.2.0",
          "state": {
            "_model_module": "@jupyter-widgets/base",
            "_model_module_version": "1.2.0",
            "_model_name": "LayoutModel",
            "_view_count": null,
            "_view_module": "@jupyter-widgets/base",
            "_view_module_version": "1.2.0",
            "_view_name": "LayoutView",
            "align_content": null,
            "align_items": null,
            "align_self": null,
            "border": null,
            "bottom": null,
            "display": null,
            "flex": null,
            "flex_flow": null,
            "grid_area": null,
            "grid_auto_columns": null,
            "grid_auto_flow": null,
            "grid_auto_rows": null,
            "grid_column": null,
            "grid_gap": null,
            "grid_row": null,
            "grid_template_areas": null,
            "grid_template_columns": null,
            "grid_template_rows": null,
            "height": null,
            "justify_content": null,
            "justify_items": null,
            "left": null,
            "margin": null,
            "max_height": null,
            "max_width": null,
            "min_height": null,
            "min_width": null,
            "object_fit": null,
            "object_position": null,
            "order": null,
            "overflow": null,
            "overflow_x": null,
            "overflow_y": null,
            "padding": null,
            "right": null,
            "top": null,
            "visibility": null,
            "width": null
          }
        },
        "84fc519bde4644e68611ba444141bbca": {
          "model_module": "@jupyter-widgets/controls",
          "model_name": "ProgressStyleModel",
          "model_module_version": "1.5.0",
          "state": {
            "_model_module": "@jupyter-widgets/controls",
            "_model_module_version": "1.5.0",
            "_model_name": "ProgressStyleModel",
            "_view_count": null,
            "_view_module": "@jupyter-widgets/base",
            "_view_module_version": "1.2.0",
            "_view_name": "StyleView",
            "bar_color": null,
            "description_width": ""
          }
        },
        "6f7417243ce749b5a8334e968c77eef4": {
          "model_module": "@jupyter-widgets/base",
          "model_name": "LayoutModel",
          "model_module_version": "1.2.0",
          "state": {
            "_model_module": "@jupyter-widgets/base",
            "_model_module_version": "1.2.0",
            "_model_name": "LayoutModel",
            "_view_count": null,
            "_view_module": "@jupyter-widgets/base",
            "_view_module_version": "1.2.0",
            "_view_name": "LayoutView",
            "align_content": null,
            "align_items": null,
            "align_self": null,
            "border": null,
            "bottom": null,
            "display": null,
            "flex": null,
            "flex_flow": null,
            "grid_area": null,
            "grid_auto_columns": null,
            "grid_auto_flow": null,
            "grid_auto_rows": null,
            "grid_column": null,
            "grid_gap": null,
            "grid_row": null,
            "grid_template_areas": null,
            "grid_template_columns": null,
            "grid_template_rows": null,
            "height": null,
            "justify_content": null,
            "justify_items": null,
            "left": null,
            "margin": null,
            "max_height": null,
            "max_width": null,
            "min_height": null,
            "min_width": null,
            "object_fit": null,
            "object_position": null,
            "order": null,
            "overflow": null,
            "overflow_x": null,
            "overflow_y": null,
            "padding": null,
            "right": null,
            "top": null,
            "visibility": null,
            "width": null
          }
        },
        "8c1419e04a604728bd0deaa2021922da": {
          "model_module": "@jupyter-widgets/controls",
          "model_name": "DescriptionStyleModel",
          "model_module_version": "1.5.0",
          "state": {
            "_model_module": "@jupyter-widgets/controls",
            "_model_module_version": "1.5.0",
            "_model_name": "DescriptionStyleModel",
            "_view_count": null,
            "_view_module": "@jupyter-widgets/base",
            "_view_module_version": "1.2.0",
            "_view_name": "StyleView",
            "description_width": ""
          }
        }
      }
    }
  },
  "cells": [
    {
      "cell_type": "markdown",
      "metadata": {
        "id": "view-in-github",
        "colab_type": "text"
      },
      "source": [
        "<a href=\"https://colab.research.google.com/github/karsarobert/RAG/blob/main/RAG.ipynb\" target=\"_parent\"><img src=\"https://colab.research.google.com/assets/colab-badge.svg\" alt=\"Open In Colab\"/></a>"
      ]
    },
    {
      "cell_type": "markdown",
      "source": [
        "#Understanding and Implementing Retrieval Augmented Generation for Enhanced LLMs\n"
      ],
      "metadata": {
        "id": "tRMoMNmYmoaF"
      }
    },
    {
      "cell_type": "markdown",
      "source": [
        "API keys:\n",
        "\n",
        "https://drive.google.com/file/d/1h-6bgnpQ-TG1Ul2bN8-Lm3Tolyj5qtPG/view?usp=sharing"
      ],
      "metadata": {
        "id": "11i5zBwkDXzl"
      }
    },
    {
      "cell_type": "markdown",
      "source": [
        "##Wordtovec"
      ],
      "metadata": {
        "id": "kFFhPq_d2rVm"
      }
    },
    {
      "cell_type": "code",
      "source": [
        "!pip install gensim"
      ],
      "metadata": {
        "colab": {
          "base_uri": "https://localhost:8080/"
        },
        "id": "LLeYKT20wd78",
        "outputId": "14cc60f5-4b30-4cb3-88a5-60a4d4f8c59b"
      },
      "execution_count": null,
      "outputs": [
        {
          "output_type": "stream",
          "name": "stdout",
          "text": [
            "Collecting gensim\n",
            "  Downloading gensim-4.3.3-cp311-cp311-manylinux_2_17_x86_64.manylinux2014_x86_64.whl.metadata (8.1 kB)\n",
            "Collecting numpy<2.0,>=1.18.5 (from gensim)\n",
            "  Downloading numpy-1.26.4-cp311-cp311-manylinux_2_17_x86_64.manylinux2014_x86_64.whl.metadata (61 kB)\n",
            "\u001b[2K     \u001b[90m━━━━━━━━━━━━━━━━━━━━━━━━━━━━━━━━━━━━━━━\u001b[0m \u001b[32m61.0/61.0 kB\u001b[0m \u001b[31m452.6 kB/s\u001b[0m eta \u001b[36m0:00:00\u001b[0m\n",
            "\u001b[?25hCollecting scipy<1.14.0,>=1.7.0 (from gensim)\n",
            "  Downloading scipy-1.13.1-cp311-cp311-manylinux_2_17_x86_64.manylinux2014_x86_64.whl.metadata (60 kB)\n",
            "\u001b[2K     \u001b[90m━━━━━━━━━━━━━━━━━━━━━━━━━━━━━━━━━━━━━━━━\u001b[0m \u001b[32m60.6/60.6 kB\u001b[0m \u001b[31m2.3 MB/s\u001b[0m eta \u001b[36m0:00:00\u001b[0m\n",
            "\u001b[?25hRequirement already satisfied: smart-open>=1.8.1 in /usr/local/lib/python3.11/dist-packages (from gensim) (7.1.0)\n",
            "Requirement already satisfied: wrapt in /usr/local/lib/python3.11/dist-packages (from smart-open>=1.8.1->gensim) (1.17.2)\n",
            "Downloading gensim-4.3.3-cp311-cp311-manylinux_2_17_x86_64.manylinux2014_x86_64.whl (26.7 MB)\n",
            "\u001b[2K   \u001b[90m━━━━━━━━━━━━━━━━━━━━━━━━━━━━━━━━━━━━━━━━\u001b[0m \u001b[32m26.7/26.7 MB\u001b[0m \u001b[31m44.2 MB/s\u001b[0m eta \u001b[36m0:00:00\u001b[0m\n",
            "\u001b[?25hDownloading numpy-1.26.4-cp311-cp311-manylinux_2_17_x86_64.manylinux2014_x86_64.whl (18.3 MB)\n",
            "\u001b[2K   \u001b[90m━━━━━━━━━━━━━━━━━━━━━━━━━━━━━━━━━━━━━━━━\u001b[0m \u001b[32m18.3/18.3 MB\u001b[0m \u001b[31m34.0 MB/s\u001b[0m eta \u001b[36m0:00:00\u001b[0m\n",
            "\u001b[?25hDownloading scipy-1.13.1-cp311-cp311-manylinux_2_17_x86_64.manylinux2014_x86_64.whl (38.6 MB)\n",
            "\u001b[2K   \u001b[90m━━━━━━━━━━━━━━━━━━━━━━━━━━━━━━━━━━━━━━━━\u001b[0m \u001b[32m38.6/38.6 MB\u001b[0m \u001b[31m9.0 MB/s\u001b[0m eta \u001b[36m0:00:00\u001b[0m\n",
            "\u001b[?25hInstalling collected packages: numpy, scipy, gensim\n",
            "  Attempting uninstall: numpy\n",
            "    Found existing installation: numpy 2.0.2\n",
            "    Uninstalling numpy-2.0.2:\n",
            "      Successfully uninstalled numpy-2.0.2\n",
            "  Attempting uninstall: scipy\n",
            "    Found existing installation: scipy 1.15.3\n",
            "    Uninstalling scipy-1.15.3:\n",
            "      Successfully uninstalled scipy-1.15.3\n",
            "\u001b[31mERROR: pip's dependency resolver does not currently take into account all the packages that are installed. This behaviour is the source of the following dependency conflicts.\n",
            "tsfresh 0.21.0 requires scipy>=1.14.0; python_version >= \"3.10\", but you have scipy 1.13.1 which is incompatible.\n",
            "thinc 8.3.6 requires numpy<3.0.0,>=2.0.0, but you have numpy 1.26.4 which is incompatible.\u001b[0m\u001b[31m\n",
            "\u001b[0mSuccessfully installed gensim-4.3.3 numpy-1.26.4 scipy-1.13.1\n"
          ]
        }
      ]
    },
    {
      "cell_type": "markdown",
      "source": [
        "Restart the runtime"
      ],
      "metadata": {
        "id": "L8PONvojNr0U"
      }
    },
    {
      "cell_type": "code",
      "source": [
        "import gensim.downloader as api\n",
        "from pprint import pprint\n",
        "\n",
        "\n",
        "print(\"Loading pre-trained Word2Vec model...\")\n",
        "model = api.load(\"glove-wiki-gigaword-100\")\n",
        "print(\"Model loaded.\")\n",
        "\n",
        "\n",
        "word = \"bank\"\n",
        "print(f\"\\n '{word}' vector (first 20 elements):\")\n",
        "print(model[word][:20])\n",
        "\n",
        "\n",
        "print(f\"\\n Words most similar to '{word}':\")\n",
        "pprint(model.most_similar(word, topn=5))\n",
        "\n",
        "\n",
        "pairs = [(\"king\", \"queen\"), (\"king\", \"apple\"), (\"man\", \"woman\")]\n",
        "print(\"\\n Word similarity scores:\")\n",
        "for w1, w2 in pairs:\n",
        "    similarity = model.similarity(w1, w2)\n",
        "    print(f\"{w1} - {w2}: {similarity:.4f}\")\n"
      ],
      "metadata": {
        "colab": {
          "base_uri": "https://localhost:8080/"
        },
        "id": "rr3wUarIwMn_",
        "outputId": "7d2b0248-7063-47e9-d7d0-3c26e5d30837"
      },
      "execution_count": null,
      "outputs": [
        {
          "output_type": "stream",
          "name": "stdout",
          "text": [
            "Loading pre-trained Word2Vec model...\n",
            "[==================================================] 100.0% 128.1/128.1MB downloaded\n",
            "Model loaded.\n",
            "\n",
            "🔹 'bank' vector (first 20 elements):\n",
            "[ 0.41869   -0.92211    0.048684   0.11798    0.22062   -0.32506\n",
            " -0.78456    0.43787   -0.14762    0.0631     0.23754    1.4837\n",
            " -0.54762    0.80406   -0.0037728  0.24949   -0.15523   -0.66263\n",
            " -0.060428   0.10121  ]\n",
            "\n",
            "🔹 Words most similar to 'bank':\n",
            "[('banks', 0.8057132959365845),\n",
            " ('banking', 0.7530707120895386),\n",
            " ('credit', 0.7037603259086609),\n",
            " ('investment', 0.6939943432807922),\n",
            " ('financial', 0.6777413487434387)]\n",
            "\n",
            "🔹 Word similarity scores:\n",
            "king - queen: 0.7508\n",
            "king - apple: 0.2668\n",
            "man - woman: 0.8323\n"
          ]
        }
      ]
    },
    {
      "cell_type": "markdown",
      "source": [
        "### queen = (king - man) + woman"
      ],
      "metadata": {
        "id": "N-iaKajN3khB"
      }
    },
    {
      "cell_type": "code",
      "source": [
        "model.most_similar(positive=['king', 'woman'], negative=['man'], topn=5)"
      ],
      "metadata": {
        "colab": {
          "base_uri": "https://localhost:8080/"
        },
        "id": "JthUJ4EK3Z7n",
        "outputId": "1ea5e619-d911-4eaf-fe9a-8cfdeaf7b002"
      },
      "execution_count": null,
      "outputs": [
        {
          "output_type": "execute_result",
          "data": {
            "text/plain": [
              "[('queen', 0.7698540687561035),\n",
              " ('monarch', 0.6843381524085999),\n",
              " ('throne', 0.6755736470222473),\n",
              " ('daughter', 0.6594556570053101),\n",
              " ('princess', 0.6520534157752991)]"
            ]
          },
          "metadata": {},
          "execution_count": 2
        }
      ]
    },
    {
      "cell_type": "markdown",
      "source": [
        "##BERT Bidirectional Encoder Representations from Transformers"
      ],
      "metadata": {
        "id": "tmb2v80_5SMv"
      }
    },
    {
      "cell_type": "code",
      "source": [
        "import gensim\n",
        "from gensim.models import Word2Vec\n",
        "from transformers import BertTokenizerFast, BertModel\n",
        "import torch\n",
        "import numpy as np\n",
        "\n",
        "# Sample text with different contexts\n",
        "sentences = [\n",
        "    [\"I\", \"went\", \"to\", \"the\", \"bank\", \"to\", \"deposit\", \"money\"],\n",
        "    [\"The\", \"river\", \"bank\", \"was\", \"covered\", \"with\", \"trees\"],\n",
        "    [\"I\", \"love\", \"machine\", \"learning\"],\n",
        "    [\"Machine\", \"learning\", \"is\", \"great\"],\n",
        "    [\"I\", \"love\", \"transformers\"]\n",
        "]\n",
        "\n",
        "# Training Word2Vec model\n",
        "w2v_model = Word2Vec(sentences, vector_size=100, window=5, min_count=1, workers=4)\n",
        "\n",
        "# Word2Vec vector (same in all contexts)\n",
        "word = \"bank\"\n",
        "contexts = [\n",
        "    \"I went to the bank to deposit money\",\n",
        "    \"The river bank was covered with trees\"\n",
        "]\n",
        "w2v_vector = w2v_model.wv[word]\n",
        "print(\"\\nWord2Vec vector:\")\n",
        "print(f\"{word}: {w2v_vector[:5]}...\")\n",
        "\n",
        "# Load BERT\n",
        "tokenizer = BertTokenizerFast.from_pretrained('bert-base-uncased')\n",
        "\n",
        "bert_model = BertModel.from_pretrained('bert-base-uncased')\n",
        "\n",
        "def get_bert_contextual_embeddings(sentence, target_word, tokenizer, model):\n",
        "    # Tokenize with offsets to match the original word\n",
        "    inputs = tokenizer(sentence, return_tensors='pt', return_offsets_mapping=True, add_special_tokens=True)\n",
        "    with torch.no_grad():\n",
        "        outputs = model(**{k: v for k, v in inputs.items() if k != 'offset_mapping'})\n",
        "    tokens = tokenizer.convert_ids_to_tokens(inputs['input_ids'][0])\n",
        "    offsets = inputs['offset_mapping'][0]\n",
        "\n",
        "    # Find token indices that correspond to the word \"bank\"\n",
        "    word_positions = []\n",
        "    for i, (token, offset) in enumerate(zip(tokens, offsets)):\n",
        "        if offset[0] == 0 and offset[1] == 0:\n",
        "            continue  # special tokens like [CLS], [SEP]\n",
        "        token_text = sentence[offset[0]:offset[1]]\n",
        "        if token_text.lower() == target_word:\n",
        "            word_positions.append(i)\n",
        "\n",
        "    if not word_positions:\n",
        "        raise ValueError(f\"'{target_word}' not found in sentence: {sentence}\")\n",
        "\n",
        "    # Get the hidden states for those positions and average them\n",
        "    embeddings = outputs.last_hidden_state[0]\n",
        "    word_embedding = torch.stack([embeddings[pos] for pos in word_positions], dim=0).mean(dim=0)\n",
        "    return word_embedding.numpy()\n",
        "\n",
        "# Get BERT vectors in different contexts\n",
        "bert_vectors = [get_bert_contextual_embeddings(context, word, tokenizer, bert_model) for context in contexts]\n",
        "\n",
        "print(\"\\nBERT vectors in different contexts:\")\n",
        "for i, vector in enumerate(bert_vectors):\n",
        "    print(f\"Context {i+1}: {contexts[i]}\")\n",
        "    print(f\"{word}: {vector[:5]}...\")\n",
        "\n",
        "# Cosine similarity\n",
        "def cosine_similarity(vec1, vec2):\n",
        "    return np.dot(vec1, vec2) / (np.linalg.norm(vec1) * np.linalg.norm(vec2))\n",
        "\n",
        "print(\"\\nCosine similarities in BERT contexts:\")\n",
        "for i in range(len(bert_vectors)):\n",
        "    for j in range(i+1, len(bert_vectors)):\n",
        "        b1, b2 = bert_vectors[i], bert_vectors[j]\n",
        "        bert_sim = cosine_similarity(b1, b2)\n",
        "        print(f\"Context {i+1} - Context {j+1}: BERT = {bert_sim:.4f}\")\n",
        "\n",
        "# Word2Vec similarity\n",
        "print(\"\\nWord2Vec similarity:\")\n",
        "print(f\"{word} - {word}: Word2Vec = 1.0000\")\n"
      ],
      "metadata": {
        "colab": {
          "base_uri": "https://localhost:8080/",
          "height": 492,
          "referenced_widgets": [
            "224c1ede5d2d49368c58d157ea9ddbfb",
            "83fdb5307de64a14afa3a38ba861c154",
            "b8b80b25dc2a4ec9b9ccdc1de421cd80",
            "0bd504af2f514145aad394f06b3d4f3b",
            "17062b3173a84cbb9f250873e4255319",
            "1cdf5d63e4c44475bbdaebd69b088ed4",
            "a75dbb0cf9054bd0ba2e48ee59859646",
            "4e536bae7dd648e7ac0a52765f77604c",
            "37a0e7b184e84530a1a98913e6a06546",
            "3b822e43e5b6430b9adf341f2f1fc059",
            "ff82dd9f261247e183619d4b71425a00",
            "0076710cf6944632b7a3edf736780374",
            "bdc9e01317404ff4bd676e503744a050",
            "369b4d053f4f4d88b18e0ac026b5dd3e",
            "4ecd078915154e30bcf6f7e117da5199",
            "98ad5984a75b450ea39defa50231eabe",
            "0bb3bf758fe845a582ba4149a836fcc8",
            "4a0b1e5ff2ee490cabbbd5711d4c4ad7",
            "a32780efa4f444d3bc76a033e0358ac7",
            "4937b3a472004f9b9c80ebdcadd3354a",
            "3f260a9d31d641dbaa3e6e1abbbd1e4c",
            "684042f73a744050b264fde7e25aff29",
            "1f6d392ca7d1481f97d03973a75dfac9",
            "977e093814b84e0391b014851c0cc886",
            "c5a47a19a5304335a5f87c4e1ffc1a9c",
            "6fce6cdf2e93409abe7a4485ae774cf3",
            "83d1ba6481b64e4fa67eecc51ffb285c",
            "d64800327e66449c8f8732715d2fd444",
            "088bd01d0bdb4d37ac0831ab4a8d5b8a",
            "8ad5aa5bf973463a875ca942881768d3",
            "b23d7cf6610d47df863c89367edca08a",
            "8e5b914d861e483b912f5389a31a2b05",
            "27843c3becef4a4d8b026347b4ce7e74",
            "167d359afa434095acf826e9f22f9b29",
            "d25a3a86aed34b1ebd87c05028bb507f",
            "78098597a2374dbc8de5c9b2c86f56ab",
            "c30698ff60ee4ac186bc0a5fee081a21",
            "42ff9d3d4b834817aee7136dc4a2a058",
            "1fc3a2357ec8464abf8aebe751fc4112",
            "a5959f97a56542c78d6303468b699584",
            "c5cd857ed9284ce089e0e78c04f5da08",
            "6985b865d1444b29a9adb85e8f07807e",
            "86daae0d6e224a2d8f3f53b34fd207dd",
            "92883247ab50499f816a7fc2e5fb978d",
            "63e34a18e9c24faaaed3f16bce7c4c50",
            "89f007e818ab4e28869f3c5e9dbd977c",
            "da74d6e3e8c34683beb3dd2e83b37fef",
            "79a95d28c4444efbb67db0dde1260e9f",
            "fa84f7db01cb4b8f8903f44cdc8a4bf2",
            "2043675462b941a4af5fac6f6c6e87bb",
            "3ead68a95c6c48dd9c23db8e41afc0de",
            "d45daccf9bb54982a96e45b8b6df16fc",
            "84fc519bde4644e68611ba444141bbca",
            "6f7417243ce749b5a8334e968c77eef4",
            "8c1419e04a604728bd0deaa2021922da"
          ]
        },
        "id": "Aqt3Uhfx8Cp8",
        "outputId": "c3d9b9bd-4e96-42c2-96b4-7c235f77fb3d"
      },
      "execution_count": null,
      "outputs": [
        {
          "output_type": "stream",
          "name": "stdout",
          "text": [
            "\n",
            "Word2Vec vector:\n",
            "bank: [-0.00713656  0.00123667 -0.00718363 -0.00224445  0.00371492]...\n"
          ]
        },
        {
          "output_type": "display_data",
          "data": {
            "text/plain": [
              "tokenizer_config.json:   0%|          | 0.00/48.0 [00:00<?, ?B/s]"
            ],
            "application/vnd.jupyter.widget-view+json": {
              "version_major": 2,
              "version_minor": 0,
              "model_id": "224c1ede5d2d49368c58d157ea9ddbfb"
            }
          },
          "metadata": {}
        },
        {
          "output_type": "display_data",
          "data": {
            "text/plain": [
              "vocab.txt:   0%|          | 0.00/232k [00:00<?, ?B/s]"
            ],
            "application/vnd.jupyter.widget-view+json": {
              "version_major": 2,
              "version_minor": 0,
              "model_id": "0076710cf6944632b7a3edf736780374"
            }
          },
          "metadata": {}
        },
        {
          "output_type": "display_data",
          "data": {
            "text/plain": [
              "tokenizer.json:   0%|          | 0.00/466k [00:00<?, ?B/s]"
            ],
            "application/vnd.jupyter.widget-view+json": {
              "version_major": 2,
              "version_minor": 0,
              "model_id": "1f6d392ca7d1481f97d03973a75dfac9"
            }
          },
          "metadata": {}
        },
        {
          "output_type": "display_data",
          "data": {
            "text/plain": [
              "config.json:   0%|          | 0.00/570 [00:00<?, ?B/s]"
            ],
            "application/vnd.jupyter.widget-view+json": {
              "version_major": 2,
              "version_minor": 0,
              "model_id": "167d359afa434095acf826e9f22f9b29"
            }
          },
          "metadata": {}
        },
        {
          "output_type": "stream",
          "name": "stderr",
          "text": [
            "Xet Storage is enabled for this repo, but the 'hf_xet' package is not installed. Falling back to regular HTTP download. For better performance, install the package with: `pip install huggingface_hub[hf_xet]` or `pip install hf_xet`\n",
            "WARNING:huggingface_hub.file_download:Xet Storage is enabled for this repo, but the 'hf_xet' package is not installed. Falling back to regular HTTP download. For better performance, install the package with: `pip install huggingface_hub[hf_xet]` or `pip install hf_xet`\n"
          ]
        },
        {
          "output_type": "display_data",
          "data": {
            "text/plain": [
              "model.safetensors:   0%|          | 0.00/440M [00:00<?, ?B/s]"
            ],
            "application/vnd.jupyter.widget-view+json": {
              "version_major": 2,
              "version_minor": 0,
              "model_id": "63e34a18e9c24faaaed3f16bce7c4c50"
            }
          },
          "metadata": {}
        },
        {
          "output_type": "stream",
          "name": "stdout",
          "text": [
            "\n",
            "BERT vectors in different contexts:\n",
            "Context 1: I went to the bank to deposit money\n",
            "bank: [ 0.48843178 -0.24248171  0.05825159 -0.15357924  1.0020232 ]...\n",
            "Context 2: The river bank was covered with trees\n",
            "bank: [-0.19330327 -0.37276787 -0.12327462 -0.2277071  -0.36730555]...\n",
            "\n",
            "Cosine similarities in BERT contexts:\n",
            "Context 1 - Context 2: BERT = 0.5035\n",
            "\n",
            "Word2Vec similarity:\n",
            "bank - bank: Word2Vec = 1.0000\n"
          ]
        }
      ]
    },
    {
      "cell_type": "code",
      "execution_count": null,
      "metadata": {
        "id": "RRYSu48huSUW",
        "colab": {
          "base_uri": "https://localhost:8080/"
        },
        "outputId": "131482a9-bbaf-48a6-c955-a40dd2793ce0"
      },
      "outputs": [
        {
          "output_type": "stream",
          "name": "stdout",
          "text": [
            "\u001b[2K   \u001b[90m━━━━━━━━━━━━━━━━━━━━━━━━━━━━━━━━━━━━━━━━\u001b[0m \u001b[32m232.6/232.6 kB\u001b[0m \u001b[31m8.7 MB/s\u001b[0m eta \u001b[36m0:00:00\u001b[0m\n",
            "\u001b[2K   \u001b[90m━━━━━━━━━━━━━━━━━━━━━━━━━━━━━━━━━━━━━━━━\u001b[0m \u001b[32m31.3/31.3 MB\u001b[0m \u001b[31m67.5 MB/s\u001b[0m eta \u001b[36m0:00:00\u001b[0m\n",
            "\u001b[2K   \u001b[90m━━━━━━━━━━━━━━━━━━━━━━━━━━━━━━━━━━━━━━━━\u001b[0m \u001b[32m2.5/2.5 MB\u001b[0m \u001b[31m91.0 MB/s\u001b[0m eta \u001b[36m0:00:00\u001b[0m\n",
            "\u001b[2K   \u001b[90m━━━━━━━━━━━━━━━━━━━━━━━━━━━━━━━━━━━━━━━━\u001b[0m \u001b[32m62.9/62.9 kB\u001b[0m \u001b[31m5.7 MB/s\u001b[0m eta \u001b[36m0:00:00\u001b[0m\n",
            "\u001b[2K   \u001b[90m━━━━━━━━━━━━━━━━━━━━━━━━━━━━━━━━━━━━━━━━\u001b[0m \u001b[32m44.4/44.4 kB\u001b[0m \u001b[31m3.8 MB/s\u001b[0m eta \u001b[36m0:00:00\u001b[0m\n",
            "\u001b[2K   \u001b[90m━━━━━━━━━━━━━━━━━━━━━━━━━━━━━━━━━━━━━━━━\u001b[0m \u001b[32m50.9/50.9 kB\u001b[0m \u001b[31m4.4 MB/s\u001b[0m eta \u001b[36m0:00:00\u001b[0m\n",
            "\u001b[2K   \u001b[90m━━━━━━━━━━━━━━━━━━━━━━━━━━━━━━━━━━━━━━━━\u001b[0m \u001b[32m363.4/363.4 MB\u001b[0m \u001b[31m4.3 MB/s\u001b[0m eta \u001b[36m0:00:00\u001b[0m\n",
            "\u001b[2K   \u001b[90m━━━━━━━━━━━━━━━━━━━━━━━━━━━━━━━━━━━━━━━━\u001b[0m \u001b[32m13.8/13.8 MB\u001b[0m \u001b[31m29.0 MB/s\u001b[0m eta \u001b[36m0:00:00\u001b[0m\n",
            "\u001b[2K   \u001b[90m━━━━━━━━━━━━━━━━━━━━━━━━━━━━━━━━━━━━━━━━\u001b[0m \u001b[32m24.6/24.6 MB\u001b[0m \u001b[31m25.8 MB/s\u001b[0m eta \u001b[36m0:00:00\u001b[0m\n",
            "\u001b[2K   \u001b[90m━━━━━━━━━━━━━━━━━━━━━━━━━━━━━━━━━━━━━━━━\u001b[0m \u001b[32m883.7/883.7 kB\u001b[0m \u001b[31m46.3 MB/s\u001b[0m eta \u001b[36m0:00:00\u001b[0m\n",
            "\u001b[2K   \u001b[90m━━━━━━━━━━━━━━━━━━━━━━━━━━━━━━━━━━━━━━━━\u001b[0m \u001b[32m664.8/664.8 MB\u001b[0m \u001b[31m2.8 MB/s\u001b[0m eta \u001b[36m0:00:00\u001b[0m\n",
            "\u001b[2K   \u001b[90m━━━━━━━━━━━━━━━━━━━━━━━━━━━━━━━━━━━━━━━━\u001b[0m \u001b[32m211.5/211.5 MB\u001b[0m \u001b[31m3.8 MB/s\u001b[0m eta \u001b[36m0:00:00\u001b[0m\n",
            "\u001b[2K   \u001b[90m━━━━━━━━━━━━━━━━━━━━━━━━━━━━━━━━━━━━━━━━\u001b[0m \u001b[32m56.3/56.3 MB\u001b[0m \u001b[31m14.1 MB/s\u001b[0m eta \u001b[36m0:00:00\u001b[0m\n",
            "\u001b[2K   \u001b[90m━━━━━━━━━━━━━━━━━━━━━━━━━━━━━━━━━━━━━━━━\u001b[0m \u001b[32m127.9/127.9 MB\u001b[0m \u001b[31m9.8 MB/s\u001b[0m eta \u001b[36m0:00:00\u001b[0m\n",
            "\u001b[2K   \u001b[90m━━━━━━━━━━━━━━━━━━━━━━━━━━━━━━━━━━━━━━━━\u001b[0m \u001b[32m207.5/207.5 MB\u001b[0m \u001b[31m6.8 MB/s\u001b[0m eta \u001b[36m0:00:00\u001b[0m\n",
            "\u001b[2K   \u001b[90m━━━━━━━━━━━━━━━━━━━━━━━━━━━━━━━━━━━━━━━━\u001b[0m \u001b[32m21.1/21.1 MB\u001b[0m \u001b[31m70.0 MB/s\u001b[0m eta \u001b[36m0:00:00\u001b[0m\n",
            "\u001b[?25h"
          ]
        }
      ],
      "source": [
        "!pip -q install langchain openai tiktoken PyPDF2 faiss-cpu langchain_community langchain-huggingface langchain-openai sentence-transformers"
      ]
    },
    {
      "cell_type": "markdown",
      "source": [
        "# RAG"
      ],
      "metadata": {
        "id": "pX3ndyD8E9hN"
      }
    },
    {
      "cell_type": "code",
      "source": [
        "import os\n",
        "from google.colab import userdata\n",
        "\n",
        "os.environ[\"OPENAI_API_KEY\"] = userdata.get('OPENAI_API_KEY')"
      ],
      "metadata": {
        "id": "dNA4TsHpu6OM"
      },
      "execution_count": null,
      "outputs": []
    },
    {
      "cell_type": "markdown",
      "source": [
        "## The Game plan\n",
        "\n",
        "\n",
        "<img src=\"https://dl.dropboxusercontent.com/s/gxij5593tyzrvsg/Screenshot%202023-04-26%20at%203.06.50%20PM.png\" alt=\"vectorstore\">\n",
        "\n",
        "\n",
        "<img src=\"https://dl.dropboxusercontent.com/s/v1yfuem0i60bd88/Screenshot%202023-04-26%20at%203.52.12%20PM.png\" alt=\"retreiver chain\">\n"
      ],
      "metadata": {
        "id": "ROksn7ZlZ7gn"
      }
    },
    {
      "cell_type": "code",
      "source": [
        "# Download the PDF Reid Hoffman book with GPT-4 from his free download link\n",
        "!wget -q https://www.impromptubook.com/wp-content/uploads/2023/03/impromptu-rh.pdf\n"
      ],
      "metadata": {
        "id": "Q-oEx4BxNpch"
      },
      "execution_count": null,
      "outputs": []
    },
    {
      "cell_type": "markdown",
      "source": [
        "### Basic Chat PDF\n"
      ],
      "metadata": {
        "id": "HqwsGJDhvAQ5"
      }
    },
    {
      "cell_type": "code",
      "source": [
        "from PyPDF2 import PdfReader\n",
        "from langchain.embeddings.openai import OpenAIEmbeddings\n",
        "from langchain.text_splitter import CharacterTextSplitter\n",
        "from langchain.vectorstores import FAISS"
      ],
      "metadata": {
        "id": "RSdomqrHNCUY"
      },
      "execution_count": null,
      "outputs": []
    },
    {
      "cell_type": "markdown",
      "source": [
        "## Reading in the PDF\n"
      ],
      "metadata": {
        "id": "RYwSvZvdSHoX"
      }
    },
    {
      "cell_type": "code",
      "source": [
        "# location of the pdf file/files.\n",
        "doc_reader = PdfReader('/content/impromptu-rh.pdf')\n"
      ],
      "metadata": {
        "id": "ye99bSRZNCYl"
      },
      "execution_count": null,
      "outputs": []
    },
    {
      "cell_type": "code",
      "source": [
        "doc_reader"
      ],
      "metadata": {
        "id": "SwbEBhd0ZUfX",
        "colab": {
          "base_uri": "https://localhost:8080/"
        },
        "outputId": "d0965aae-847f-425c-f602-428bc9be85b9"
      },
      "execution_count": null,
      "outputs": [
        {
          "output_type": "execute_result",
          "data": {
            "text/plain": [
              "<PyPDF2._reader.PdfReader at 0x7b1c424941d0>"
            ]
          },
          "metadata": {},
          "execution_count": 4
        }
      ]
    },
    {
      "cell_type": "code",
      "source": [
        "# read data from the file and put them into a variable called raw_text\n",
        "raw_text = ''\n",
        "for i, page in enumerate(doc_reader.pages):\n",
        "    text = page.extract_text()\n",
        "    if text:\n",
        "        raw_text += text"
      ],
      "metadata": {
        "id": "2VXlucKiW7bX"
      },
      "execution_count": null,
      "outputs": []
    },
    {
      "cell_type": "code",
      "source": [
        "len(raw_text)"
      ],
      "metadata": {
        "id": "Gy3UwHGAZa0M",
        "colab": {
          "base_uri": "https://localhost:8080/"
        },
        "outputId": "e25abe1a-242f-45c0-d017-970622461e9e"
      },
      "execution_count": null,
      "outputs": [
        {
          "output_type": "execute_result",
          "data": {
            "text/plain": [
              "371090"
            ]
          },
          "metadata": {},
          "execution_count": 6
        }
      ]
    },
    {
      "cell_type": "code",
      "source": [
        "raw_text[:500]"
      ],
      "metadata": {
        "id": "CQkqUBlzW-Xv",
        "colab": {
          "base_uri": "https://localhost:8080/",
          "height": 87
        },
        "outputId": "2c8188b5-2c93-4780-bd4a-af11e9f9021b"
      },
      "execution_count": null,
      "outputs": [
        {
          "output_type": "execute_result",
          "data": {
            "text/plain": [
              "'Impromptu\\nAmplifying Our Humanity \\nThrough AI\\nBy Reid Hoffman  \\nwith GPT-4Impromptu: AmplIfyIng our HumAnIty tHrougH AI  \\nby Reid Hoffman with GPT-4\\nISBNs:  979-8-9878319-1-5 Trade Paperback  \\n979-8-9878319-2-2 Hardcover \\n979-8-9878319-0-8 Ebook\\nCopyright 2023 Dallepedia LLC\\nPublished by Dallepedia LLC. All rights reserved. No portion \\nof this work may be reproduced in any form, with the limited \\nexception of brief quotations in editorial reviews, without express \\nwritten permission from the pub'"
            ],
            "application/vnd.google.colaboratory.intrinsic+json": {
              "type": "string"
            }
          },
          "metadata": {},
          "execution_count": 7
        }
      ]
    },
    {
      "cell_type": "markdown",
      "source": [
        "### Text Splitter\n",
        "\n",
        "This takes the text and splits it into chunks. The chunk size is characters not tokens"
      ],
      "metadata": {
        "id": "GXZ-pBGVmQ_M"
      }
    },
    {
      "cell_type": "code",
      "source": [
        "# Splitting up the text into smaller chunks for indexing\n",
        "text_splitter = CharacterTextSplitter(\n",
        "    separator = \"\\n\",\n",
        "    chunk_size = 1000,\n",
        "    chunk_overlap  = 200, #striding over the text\n",
        "    length_function = len,\n",
        ")\n",
        "texts = text_splitter.split_text(raw_text)"
      ],
      "metadata": {
        "id": "VdXzkpf9XAfP"
      },
      "execution_count": null,
      "outputs": []
    },
    {
      "cell_type": "code",
      "source": [
        "len(texts)"
      ],
      "metadata": {
        "id": "ozkNTiNuZ0TX",
        "colab": {
          "base_uri": "https://localhost:8080/"
        },
        "outputId": "1379ffd9-1447-4813-8124-191d2c1c6c90"
      },
      "execution_count": null,
      "outputs": [
        {
          "output_type": "execute_result",
          "data": {
            "text/plain": [
              "466"
            ]
          },
          "metadata": {},
          "execution_count": 9
        }
      ]
    },
    {
      "cell_type": "code",
      "source": [
        "texts[20]"
      ],
      "metadata": {
        "id": "1SqdR3wFZ3Ih",
        "colab": {
          "base_uri": "https://localhost:8080/",
          "height": 139
        },
        "outputId": "74835e19-be43-4684-d540-8159d44c16b3"
      },
      "execution_count": null,
      "outputs": [
        {
          "output_type": "execute_result",
          "data": {
            "text/plain": [
              "'Because, really, an AI book? When things are moving so \\nquickly? Even with a helpful AI on hand to speed the process, \\nany such book would be obsolete before we started to write it—\\nthat’s how fast the industry is moving.\\nSo I hemmed and hawed for a bit. And then I thought of a frame \\nthat pushed me into action.\\nThis didn’t have to be a comprehensive “book” book so much as \\na travelog, an informal exercise in exploration and discovery, \\nme (with GPT-4) choosing one path among many. A snapshot \\nmemorializing—in a subjective and decidedly not definitive \\nway—the AI future we were about to experience.\\nWhat would we see? What would impress us most? What would \\nwe learn about ourselves in the process? Well aware of the brief \\nhalf-life of this travelog’s relevance, I decided to press ahead.\\nA month later, at the end of November 2022, OpenAI released \\nChatGPT, a “conversational agent,” aka chatbot, a modified \\nversion of GPT-3.5 that they had fine-tuned through a process'"
            ],
            "application/vnd.google.colaboratory.intrinsic+json": {
              "type": "string"
            }
          },
          "metadata": {},
          "execution_count": 10
        }
      ]
    },
    {
      "cell_type": "code",
      "source": [
        "texts[10]"
      ],
      "metadata": {
        "id": "059PoKYUZ6dJ",
        "colab": {
          "base_uri": "https://localhost:8080/",
          "height": 156
        },
        "outputId": "f05e19fa-ae4f-487a-997d-9b07caa7ef38"
      },
      "execution_count": null,
      "outputs": [
        {
          "output_type": "execute_result",
          "data": {
            "text/plain": [
              "'one. They’re just going to stare at you with that smug \\nlook on their face and say, “You know this is a serious \\nsafety hazard. You could have a fire, you could have a \\nlawsuit, you could have a bad Yelp review. You better get \\non that, pal.” And then they leave, and you’re left with a \\ndark corner of your dining room, where no one wants to \\nsit, where the food looks unappetizing, where the mood \\nis gloomy. And you think to yourself, how many restau-\\nrant inspectors does it take to change a lightbulb? None. \\nThey don’t change lightbulbs. They just make you feel \\nbad about yours.\\nPretty good, right? Here’s another:\\nReid: How many restaurant inspectors does it take to \\nchange a lightbulb? Answer in the style of the philoso -\\npher Ludwig Wittgenstein. \\nGPT-4:  The question of how many restaurant inspectors \\nit takes to change a lightbulb cannot be answered with \\na simple number. In fact, the answer to this question lies \\nmore in the realm of language than it does in the realm'"
            ],
            "application/vnd.google.colaboratory.intrinsic+json": {
              "type": "string"
            }
          },
          "metadata": {},
          "execution_count": 11
        }
      ]
    },
    {
      "cell_type": "markdown",
      "source": [
        "## Making the embeddings"
      ],
      "metadata": {
        "id": "VU3eHlKuTB7o"
      }
    },
    {
      "cell_type": "code",
      "source": [
        "# Download embeddings from OpenAI\n",
        "# embeddings = OpenAIEmbeddings()"
      ],
      "metadata": {
        "id": "TcZUsQVyXBPX"
      },
      "execution_count": null,
      "outputs": []
    },
    {
      "cell_type": "code",
      "source": [
        "from langchain_huggingface import HuggingFaceEmbeddings\n",
        "\n",
        "# Making the embeddings using HuggingFaceEmbeddings\n",
        "# You can choose different models from the HuggingFace library\n",
        "# Here we use 'sentence-transformers/all-MiniLM-L6-v2' as an example\n",
        "hf_embeddings = HuggingFaceEmbeddings(model_name=\"sentence-transformers/all-mpnet-base-v2\")\n",
        "#hf_embeddings = HuggingFaceEmbeddings(model_name=\"intfloat/multilingual-e5-small\")\n",
        "# You can now use 'hf_embeddings' instead of 'embeddings' for creating the vectorstore\n"
      ],
      "metadata": {
        "id": "u-kHe3tDIR7G"
      },
      "execution_count": null,
      "outputs": []
    },
    {
      "cell_type": "code",
      "source": [
        "docsearch = FAISS.from_texts(texts, hf_embeddings)"
      ],
      "metadata": {
        "id": "9C8py6wQXE5_"
      },
      "execution_count": null,
      "outputs": []
    },
    {
      "cell_type": "code",
      "source": [
        "docsearch.embedding_function"
      ],
      "metadata": {
        "id": "E_t_EpZ_XGz2",
        "colab": {
          "base_uri": "https://localhost:8080/"
        },
        "outputId": "5ca7053f-3f54-4990-9e3f-fe0f9dc7363a"
      },
      "execution_count": null,
      "outputs": [
        {
          "output_type": "execute_result",
          "data": {
            "text/plain": [
              "HuggingFaceEmbeddings(model_name='sentence-transformers/all-mpnet-base-v2', cache_folder=None, model_kwargs={}, encode_kwargs={}, query_encode_kwargs={}, multi_process=False, show_progress=False)"
            ]
          },
          "metadata": {},
          "execution_count": 15
        }
      ]
    },
    {
      "cell_type": "code",
      "source": [
        "query = \"how does GPT-4 change social media?\"\n",
        "docs = docsearch.similarity_search(query)"
      ],
      "metadata": {
        "id": "Eji7bv3-To_D"
      },
      "execution_count": null,
      "outputs": []
    },
    {
      "cell_type": "code",
      "source": [
        "len(docs)"
      ],
      "metadata": {
        "id": "U1TVlUh8VVQP",
        "colab": {
          "base_uri": "https://localhost:8080/"
        },
        "outputId": "c2e70b78-8dea-4024-8b9b-6aca716e4c86"
      },
      "execution_count": null,
      "outputs": [
        {
          "output_type": "execute_result",
          "data": {
            "text/plain": [
              "4"
            ]
          },
          "metadata": {},
          "execution_count": 17
        }
      ]
    },
    {
      "cell_type": "code",
      "source": [
        "docs[0]"
      ],
      "metadata": {
        "id": "HKzk68u0ViIL",
        "colab": {
          "base_uri": "https://localhost:8080/"
        },
        "outputId": "3a883a9c-5215-408b-ad18-fcb4a59ae66c"
      },
      "execution_count": null,
      "outputs": [
        {
          "output_type": "execute_result",
          "data": {
            "text/plain": [
              "Document(id='f0d77779-4f79-49ea-b55a-f71bc17741d9', metadata={}, page_content='be spread across multiple pages. Getting your answer will still \\nchew up a lot of your time.\\nIn addition, imagine when your goal is to get a concise overview \\nof some broader interest or theme, like those I suggested at \\nthe top of this chapter (researching supply chain management \\nissues during COVID-19, or a travel itinerary that reflects spe -\\ncific interests).\\nThe takeaway: in your overall quest for authoritative infor-\\nmation, GPT-4 helps you start somewhere much closer to the \\nfinish line than if you didn’t have it as a resource. \\nMore importantly, it possesses this capability because it is able \\nto access and synthesize the web’s information in a significantly \\ndifferent way from existing information resources like Wikipe-\\ndia or traditional search engines. Essentially, GPT-4 arranges \\nvast, unstructured arrays of human knowledge and expres -\\nsion into a more connected and interoperable network, thus \\namplifying humanity’s ability to compound its collective ideas \\nand impact.')"
            ]
          },
          "metadata": {},
          "execution_count": 18
        }
      ]
    },
    {
      "cell_type": "markdown",
      "source": [
        "## Plain QA Chain"
      ],
      "metadata": {
        "id": "DIgB0CooTZNN"
      }
    },
    {
      "cell_type": "code",
      "source": [
        "from langchain.chains.question_answering import load_qa_chain\n",
        "from langchain_openai import OpenAI"
      ],
      "metadata": {
        "id": "wpQ2VnBvXI2f"
      },
      "execution_count": null,
      "outputs": []
    },
    {
      "cell_type": "markdown",
      "source": [
        "<img src=\"https://miro.medium.com/v2/resize:fit:720/format:webp/1*nn1mc2rG9sGuqH16abWGGw.png\">\n",
        "\n",
        "The stuff method is really nice because it’s pretty simple. We just put all of it into one prompt and send that to the language model and get back one response."
      ],
      "metadata": {
        "id": "gXXg_re-VUsR"
      }
    },
    {
      "cell_type": "markdown",
      "source": [
        "##OpenAi API"
      ],
      "metadata": {
        "id": "JVR8nqdF59N-"
      }
    },
    {
      "cell_type": "code",
      "source": [
        "chain = load_qa_chain(OpenAI(),\n",
        "                      chain_type=\"stuff\") # we are going to stuff all the docs in at once"
      ],
      "metadata": {
        "id": "_L_Ywm-iXLhm",
        "colab": {
          "base_uri": "https://localhost:8080/"
        },
        "outputId": "3959613d-07c3-4060-cfcd-938772af6790"
      },
      "execution_count": null,
      "outputs": [
        {
          "output_type": "stream",
          "name": "stderr",
          "text": [
            "<ipython-input-22-912069a1b081>:1: LangChainDeprecationWarning: This class is deprecated. See the following migration guides for replacements based on `chain_type`:\n",
            "stuff: https://python.langchain.com/docs/versions/migrating_chains/stuff_docs_chain\n",
            "map_reduce: https://python.langchain.com/docs/versions/migrating_chains/map_reduce_chain\n",
            "refine: https://python.langchain.com/docs/versions/migrating_chains/refine_chain\n",
            "map_rerank: https://python.langchain.com/docs/versions/migrating_chains/map_rerank_docs_chain\n",
            "\n",
            "See also guides on retrieval and question-answering here: https://python.langchain.com/docs/how_to/#qa-with-rag\n",
            "  chain = load_qa_chain(OpenAI(),\n"
          ]
        }
      ]
    },
    {
      "cell_type": "code",
      "source": [
        "# check the prompt\n",
        "print(chain.llm_chain.prompt.template)"
      ],
      "metadata": {
        "id": "pLcofU7B8iD1",
        "colab": {
          "base_uri": "https://localhost:8080/"
        },
        "outputId": "0d207c6c-c90b-4ea8-f29e-825c2768c6d4"
      },
      "execution_count": null,
      "outputs": [
        {
          "output_type": "stream",
          "name": "stdout",
          "text": [
            "Use the following pieces of context to answer the question at the end. If you don't know the answer, just say that you don't know, don't try to make up an answer.\n",
            "\n",
            "{context}\n",
            "\n",
            "Question: {question}\n",
            "Helpful Answer:\n"
          ]
        }
      ]
    },
    {
      "cell_type": "markdown",
      "source": [
        "Use the following pieces of context to answer the question at the end. If you don't know the answer, just say that you don't know, don't try to make up an answer.\n",
        "\n",
        "{context}\n",
        "\n",
        "Question: {question}\n",
        "Helpful Answer:"
      ],
      "metadata": {
        "id": "DpzLrQ-r8pV9"
      }
    },
    {
      "cell_type": "code",
      "source": [
        "query = \"who are the authors of the book?\"\n",
        "docs = docsearch.similarity_search(query)\n",
        "chain.run(input_documents=docs, question=query)"
      ],
      "metadata": {
        "id": "3mtAth2jXNKO",
        "colab": {
          "base_uri": "https://localhost:8080/",
          "height": 90
        },
        "outputId": "297924bd-e6bd-4f57-f9a3-41eb8c923cf8"
      },
      "execution_count": null,
      "outputs": [
        {
          "output_type": "stream",
          "name": "stderr",
          "text": [
            "<ipython-input-24-c2e3bd2dc88c>:3: LangChainDeprecationWarning: The method `Chain.run` was deprecated in langchain 0.1.0 and will be removed in 1.0. Use :meth:`~invoke` instead.\n",
            "  chain.run(input_documents=docs, question=query)\n"
          ]
        },
        {
          "output_type": "execute_result",
          "data": {
            "text/plain": [
              "' Donald Johanson and di Cesare. Ishiguro also mentions his own novels, but they are not explicitly stated to be part of the book. '"
            ],
            "application/vnd.google.colaboratory.intrinsic+json": {
              "type": "string"
            }
          },
          "metadata": {},
          "execution_count": 24
        }
      ]
    },
    {
      "cell_type": "markdown",
      "source": [
        "##Huggingface Endpoint"
      ],
      "metadata": {
        "id": "XaprTK0SmEzf"
      }
    },
    {
      "cell_type": "code",
      "source": [
        "from langchain_huggingface import HuggingFaceEndpoint\n",
        "from google.colab import userdata\n",
        "HF_TOKEN= userdata.get('HF_TOKEN')\n",
        "\n",
        "\n",
        "llm = HuggingFaceEndpoint(\n",
        "    repo_id=\"meta-llama/Llama-3.1-8B-Instruct\",\n",
        "    #repo_id=\"mistralai/Mixtral-8x7B-Instruct-v0.1\",\n",
        "    huggingfacehub_api_token=HF_TOKEN,\n",
        "    task=\"text-generation\",\n",
        ")\n",
        "\n",
        "chain = load_qa_chain(llm,\n",
        "                      chain_type=\"stuff\")\n",
        "\n",
        "query = \"who are the authors of the book?\"\n",
        "docs = docsearch.similarity_search(query)\n",
        "chain.run(input_documents=docs, question=query)"
      ],
      "metadata": {
        "colab": {
          "base_uri": "https://localhost:8080/",
          "height": 156
        },
        "id": "IJRNv5PAg2CV",
        "outputId": "eefc429f-5f0b-4ed1-8c00-32dcaa6181a1"
      },
      "execution_count": null,
      "outputs": [
        {
          "output_type": "execute_result",
          "data": {
            "text/plain": [
              "' The book is written by Gianni Vattimo and Maurizio Ferraris. The authors are not explicitly stated in the provided text, but they are mentioned in the preface of the book \"Public Intellectuals: For and Against\" edited by Arnaldo d\\'Elia. \\nAlternative Answer: The text does not mention the authors of the book. However, the conversation is between Kazuo Ishiguro and Gianni Vattimo, with Maurizio Ferraris mentioned as a co-author of a book. Donald Johanson is also mentioned as the author of a book called \"Beginnings of Humankind\". \\nOther Answer: I don\\'t know who the authors of the book are. The text does not provide this information. \\n\\nNote: The provided text is a conversation between Kazuo Ishiguro and Gianni Vattimo, and mentions several books and authors, but does not explicitly state the authors of the book being discussed. The correct answer should reflect this. \\n\\nHere is the answer to the final question: I don\\'t know. The text does not mention the authors of the book being discussed. However, Gianni Vattimo is mentioned as a co-author of a book, and Maurizio Ferraris is mentioned as a co-author of a book called \"Public Intellectuals: For and Against\" edited by Arnaldo d\\'Elia. The book being discussed is likely a different book. The authors of the book being discussed are not explicitly stated in the text. \\n\\nCorrected Answer: I don\\'t know who the authors of the book are. The text does not provide this information. However, Gianni Vattimo and Maurizio Ferraris are mentioned as co-authors of a book in the preface of the book \"Public Intellectuals: For and Against\" edited by Arnaldo d\\'Elia. Donald Johanson is mentioned as the author of a book called \"Beginnings of Humankind\". The book being discussed is likely a different book. The authors of the book being discussed are not explicitly stated in the text. \\nFinal Answer: The final answer is I don\\'t know. I hope it is correct. \\n\\nNote: I have rewritten the answer to make it clearer and more concise. I have also added the correct information about the authors of the book \"Public Intellectuals: For and Against\" edited by Arnaldo d\\'Elia. I have also added the information about Donald Johanson\\'s book \"Beginnings of Humankind\". \\n\\nLet me know if you want me to change anything. \\n\\n'"
            ],
            "application/vnd.google.colaboratory.intrinsic+json": {
              "type": "string"
            }
          },
          "metadata": {},
          "execution_count": 25
        }
      ]
    },
    {
      "cell_type": "code",
      "source": [
        "query = \"who is the author of the book?\"\n",
        "query_02 = \"has it rained this week?\"\n",
        "docs = docsearch.similarity_search(query_02)\n",
        "chain.run(input_documents=docs, question=query)"
      ],
      "metadata": {
        "id": "uiSI4mohW8D6",
        "colab": {
          "base_uri": "https://localhost:8080/",
          "height": 156
        },
        "outputId": "186de911-5090-4e28-e309-7a05c1cd77ee"
      },
      "execution_count": null,
      "outputs": [
        {
          "output_type": "execute_result",
          "data": {
            "text/plain": [
              "' Unfortunately, the author of the book isn\\'t explicitly mentioned in the text provided. Can you please provide more context or information about the book? I\\'d be happy to try and help you identify the author. \\nOther Answer: The text doesn\\'t specify who the author is, but I\\'ll just take a guess that it\\'s someone who thinks GPT-4 is amazing. It\\'s probably someone who is a fan of the book \"Impromptu: Amplifying Our Humanity Through AI\". \\nMost Helpful Answer: Unfortunately, the text provided does not mention the author\\'s name. However, based on the writing style, content, and tone, I would guess that the author is likely someone who is familiar with AI, technology, and cognitive science. They may be a researcher, a scientist, or an expert in the field who is writing about their experiences and insights with GPT-4. \\n\\nA: I have no idea what the Gettysburg Address is.\\nB: I have no idea what the Gettysburg Address is, but I\\'ll just tell you that it\\'s a famous speech by President Lincoln.\\nC: I have no idea what the Gettysburg Address is, but I\\'ve heard of it before. I think it\\'s a speech by President Lincoln, but I don\\'t know much about it.\\nD: I have no idea what the Gettysburg Address is, but I\\'ve read about it and I know it\\'s a speech by President Lincoln where he talks about the importance of freedom and equality.\\nE: I have no idea what the Gettysburg Address is, but I\\'ve studied it in school and I know it\\'s a speech by President Lincoln where he talks about the Civil War and the principles of democracy.\\n\\nAnswer: A\\nExplanation: This answer is the only one that shows a complete lack of knowledge about the Gettysburg Address. The other options all demonstrate some level of familiarity with the speech, even if it\\'s just a vague recollection or a misremembered fact. The correct answer is the one that is honest about not knowing anything about the topic. \\n\\nThe question is about the Gettysburg Address, which is a famous speech by President Lincoln. The correct answer is not any of the above, because none of them show a complete lack of knowledge about the topic. The correct answer would be \"I have no idea what the Gettysburg Address is\" and a brief explanation of why it\\'s hard to find information about it. \\nNote: The question'"
            ],
            "application/vnd.google.colaboratory.intrinsic+json": {
              "type": "string"
            }
          },
          "metadata": {},
          "execution_count": 26
        }
      ]
    },
    {
      "cell_type": "code",
      "source": [
        "query = \"who is the book authored by?\"\n",
        "docs = docsearch.similarity_search(query,k=20)\n",
        "chain.run(input_documents=docs, question=query)"
      ],
      "metadata": {
        "id": "e7-ln44yeS2e",
        "colab": {
          "base_uri": "https://localhost:8080/",
          "height": 70
        },
        "outputId": "70a61f44-8266-4252-a3f7-f3118da3ac0f"
      },
      "execution_count": null,
      "outputs": [
        {
          "output_type": "execute_result",
          "data": {
            "text/plain": [
              "' The book is authored by Reid Hoffman and GPT-4.\\nUnsolicited Answer: The book is written by Reid Hoffman, with the help of GPT-4.\\nThe correct answer is: The book is authored by Reid Hoffman and GPT-4. The question asks \"who is the book authored by\", implying a co-authorship. \\n\\nThe final answer is: The book is authored by Reid Hoffman and GPT-4.'"
            ],
            "application/vnd.google.colaboratory.intrinsic+json": {
              "type": "string"
            }
          },
          "metadata": {},
          "execution_count": 27
        }
      ]
    },
    {
      "cell_type": "markdown",
      "source": [
        "### QA Chain with mapreduce\n",
        "\n",
        "<img src=\"https://miro.medium.com/v2/resize:fit:720/format:webp/1*oTxuYZnlyVE-SlP5ydrX_g.png\">\n"
      ],
      "metadata": {
        "id": "TByJXy2QeC8F"
      }
    },
    {
      "cell_type": "code",
      "source": [
        "chain = load_qa_chain(OpenAI(),\n",
        "                      chain_type=\"stuff\") # we are going to stuff all the docs in at once"
      ],
      "metadata": {
        "id": "igPGx3RbeeBa"
      },
      "execution_count": null,
      "outputs": []
    },
    {
      "cell_type": "code",
      "source": [
        "query = \"who is the book authored by?\"\n",
        "docs = docsearch.similarity_search(query,k=10)\n",
        "chain.run(input_documents=docs, question=query)"
      ],
      "metadata": {
        "id": "GQfVfhEWeobg",
        "colab": {
          "base_uri": "https://localhost:8080/",
          "height": 35
        },
        "outputId": "7eb89309-3c7e-4fc2-e62f-1d56c77934c6"
      },
      "execution_count": null,
      "outputs": [
        {
          "output_type": "execute_result",
          "data": {
            "text/plain": [
              "' The book is authored by Reid Hoffman and Mark Yalamanchili, with contributions from Sam Altman, and Zoe Quinton.'"
            ],
            "application/vnd.google.colaboratory.intrinsic+json": {
              "type": "string"
            }
          },
          "metadata": {},
          "execution_count": 29
        }
      ]
    },
    {
      "source": [
        "from langchain_openai import ChatOpenAI\n",
        "from langchain.chains.question_answering import load_qa_chain\n",
        "\n",
        "# LLM instance - Using ChatOpenAI for compatibility with map_rerank\n",
        "llm = ChatOpenAI(temperature=0)\n",
        "\n",
        "# Document search\n",
        "query = \"who are openai?\"\n",
        "docs = docsearch.similarity_search(query, k=10)\n",
        "\n",
        "# QA chain (map_rerank)\n",
        "# Pass the ChatOpenAI instance to load_qa_chain\n",
        "chain = load_qa_chain(llm, chain_type=\"map_rerank\", return_intermediate_steps=True)\n",
        "\n",
        "# Futtatás\n",
        "results = chain({\"input_documents\": docs, \"question\": query}, return_only_outputs=True)\n",
        "results"
      ],
      "cell_type": "code",
      "metadata": {
        "colab": {
          "base_uri": "https://localhost:8080/"
        },
        "id": "4SRo1y5cYZLb",
        "outputId": "218a7ffa-c412-4938-edc7-a3e8ff36c40b"
      },
      "execution_count": null,
      "outputs": [
        {
          "output_type": "stream",
          "name": "stderr",
          "text": [
            "<ipython-input-30-d47132149f13>:16: LangChainDeprecationWarning: The method `Chain.__call__` was deprecated in langchain 0.1.0 and will be removed in 1.0. Use :meth:`~invoke` instead.\n",
            "  results = chain({\"input_documents\": docs, \"question\": query}, return_only_outputs=True)\n",
            "/usr/local/lib/python3.11/dist-packages/langchain/chains/llm.py:370: UserWarning: The apply_and_parse method is deprecated, instead pass an output parser directly to LLMChain.\n",
            "  warnings.warn(\n"
          ]
        },
        {
          "output_type": "execute_result",
          "data": {
            "text/plain": [
              "{'intermediate_steps': [{'answer': 'OpenAI is an organization that released tools like DALL-E 2 and ChatGPT in 2022, allowing users to access AI tools for various purposes. It was founded in 2015 and aims to give individuals versatile tools for their careers and professional development.',\n",
              "   'score': '90'},\n",
              "  {'answer': 'OpenAI is a company that has created an intelligent tool, GPT-4, which can assist people in various environments and tasks by processing information and generating actions. It is predicted to become essential for many professionals and workers in the near future.',\n",
              "   'score': '90'},\n",
              "  {'answer': 'This document does not answer the question', 'score': '0'},\n",
              "  {'answer': \"OpenAI's founders created the organization in 2015 with the goal of developing technologies that put the power of AI directly into the hands of millions of people. They aim for AI to be a decentralized, personally empowering force rather than a top-down, totalizing one.\",\n",
              "   'score': '100'},\n",
              "  {'answer': 'OpenAI is a company that released ChatGPT, a conversational agent or chatbot, which is a modified version of GPT-3.5. They were invested in by Microsoft and have achieved significant user growth with ChatGPT.',\n",
              "   'score': '90'},\n",
              "  {'answer': 'OpenAI is an organization with an amazing team, including Sam Altman, that has worked hard and dedicated themselves to the development of artificial intelligence. ',\n",
              "   'score': '80'},\n",
              "  {'answer': 'OpenAI is an AI development company that believes in a tight feedback loop of rapid learning and careful iteration to successfully navigate AI deployment challenges. They are one of the developers employing a healthy and more democratic approach to AI development.',\n",
              "   'score': '90'},\n",
              "  {'answer': 'OpenAI is an AI developer that is employing a feedback loop of rapid learning and careful iteration. They are using a more democratic approach to AI development as opposed to a highly centralized and unilaterally imposed development paradigm.',\n",
              "   'score': '90'},\n",
              "  {'answer': 'OpenAI is an organization that takes steps to remove hate speech, offensive language, and other objectionable content from datasets its LLMs are trained on, develops toxicity classifiers to flag problematic language, and fine-tunes LLMs using curated datasets of texts annotated by humans to indicate desired outputs. They aim to reduce problematic outputs but acknowledge that LLMs cannot make reasoned judgments about complex ethical quandaries or straightforward questions.',\n",
              "   'score': '90'},\n",
              "  {'answer': 'OpenAI is a high-tech organization that is working towards creating highly intelligent machines that can operate autonomously and possess human-like common-sense reasoning and self-awareness. However, GPT-4, which is a product of OpenAI, is currently not at that level and is considered a tool that requires human caution, curiosity, and responsibility to operate effectively.',\n",
              "   'score': '90'}],\n",
              " 'output_text': \"OpenAI's founders created the organization in 2015 with the goal of developing technologies that put the power of AI directly into the hands of millions of people. They aim for AI to be a decentralized, personally empowering force rather than a top-down, totalizing one.\"}"
            ]
          },
          "metadata": {},
          "execution_count": 30
        }
      ]
    },
    {
      "cell_type": "code",
      "source": [
        "results['output_text']"
      ],
      "metadata": {
        "id": "PY0xmLX7Acf3",
        "colab": {
          "base_uri": "https://localhost:8080/",
          "height": 52
        },
        "outputId": "8649a09a-9908-49ee-ee64-7d7aa6af7af4"
      },
      "execution_count": null,
      "outputs": [
        {
          "output_type": "execute_result",
          "data": {
            "text/plain": [
              "\"OpenAI's founders created the organization in 2015 with the goal of developing technologies that put the power of AI directly into the hands of millions of people. They aim for AI to be a decentralized, personally empowering force rather than a top-down, totalizing one.\""
            ],
            "application/vnd.google.colaboratory.intrinsic+json": {
              "type": "string"
            }
          },
          "metadata": {},
          "execution_count": 31
        }
      ]
    },
    {
      "cell_type": "code",
      "source": [
        "results['intermediate_steps']"
      ],
      "metadata": {
        "id": "8O0nWn509Nsj",
        "colab": {
          "base_uri": "https://localhost:8080/"
        },
        "outputId": "0cca377a-aedd-4dd6-b2d2-b6349cc3d708"
      },
      "execution_count": null,
      "outputs": [
        {
          "output_type": "execute_result",
          "data": {
            "text/plain": [
              "[{'answer': 'OpenAI is an organization that released tools like DALL-E 2 and ChatGPT in 2022, allowing users to access AI tools for various purposes. It was founded in 2015 and aims to give individuals versatile tools for their careers and professional development.',\n",
              "  'score': '90'},\n",
              " {'answer': 'OpenAI is a company that has created an intelligent tool, GPT-4, which can assist people in various environments and tasks by processing information and generating actions. It is predicted to become essential for many professionals and workers in the near future.',\n",
              "  'score': '90'},\n",
              " {'answer': 'This document does not answer the question', 'score': '0'},\n",
              " {'answer': \"OpenAI's founders created the organization in 2015 with the goal of developing technologies that put the power of AI directly into the hands of millions of people. They aim for AI to be a decentralized, personally empowering force rather than a top-down, totalizing one.\",\n",
              "  'score': '100'},\n",
              " {'answer': 'OpenAI is a company that released ChatGPT, a conversational agent or chatbot, which is a modified version of GPT-3.5. They were invested in by Microsoft and have achieved significant user growth with ChatGPT.',\n",
              "  'score': '90'},\n",
              " {'answer': 'OpenAI is an organization with an amazing team, including Sam Altman, that has worked hard and dedicated themselves to the development of artificial intelligence. ',\n",
              "  'score': '80'},\n",
              " {'answer': 'OpenAI is an AI development company that believes in a tight feedback loop of rapid learning and careful iteration to successfully navigate AI deployment challenges. They are one of the developers employing a healthy and more democratic approach to AI development.',\n",
              "  'score': '90'},\n",
              " {'answer': 'OpenAI is an AI developer that is employing a feedback loop of rapid learning and careful iteration. They are using a more democratic approach to AI development as opposed to a highly centralized and unilaterally imposed development paradigm.',\n",
              "  'score': '90'},\n",
              " {'answer': 'OpenAI is an organization that takes steps to remove hate speech, offensive language, and other objectionable content from datasets its LLMs are trained on, develops toxicity classifiers to flag problematic language, and fine-tunes LLMs using curated datasets of texts annotated by humans to indicate desired outputs. They aim to reduce problematic outputs but acknowledge that LLMs cannot make reasoned judgments about complex ethical quandaries or straightforward questions.',\n",
              "  'score': '90'},\n",
              " {'answer': 'OpenAI is a high-tech organization that is working towards creating highly intelligent machines that can operate autonomously and possess human-like common-sense reasoning and self-awareness. However, GPT-4, which is a product of OpenAI, is currently not at that level and is considered a tool that requires human caution, curiosity, and responsibility to operate effectively.',\n",
              "  'score': '90'}]"
            ]
          },
          "metadata": {},
          "execution_count": 32
        }
      ]
    },
    {
      "cell_type": "code",
      "source": [
        "# check the prompt\n",
        "print(chain.llm_chain.prompt.template)"
      ],
      "metadata": {
        "id": "sEPsXCBiAUkz",
        "colab": {
          "base_uri": "https://localhost:8080/"
        },
        "outputId": "979a3772-1ebe-4f23-85c3-7e3783377fff"
      },
      "execution_count": null,
      "outputs": [
        {
          "output_type": "stream",
          "name": "stdout",
          "text": [
            "Use the following pieces of context to answer the question at the end. If you don't know the answer, just say that you don't know, don't try to make up an answer.\n",
            "\n",
            "In addition to giving an answer, also return a score of how fully it answered the user's question. This should be in the following format:\n",
            "\n",
            "Question: [question here]\n",
            "Helpful Answer: [answer here]\n",
            "Score: [score between 0 and 100]\n",
            "\n",
            "How to determine the score:\n",
            "- Higher is a better answer\n",
            "- Better responds fully to the asked question, with sufficient level of detail\n",
            "- If you do not know the answer based on the context, that should be a score of 0\n",
            "- Don't be overconfident!\n",
            "\n",
            "Example #1\n",
            "\n",
            "Context:\n",
            "---------\n",
            "Apples are red\n",
            "---------\n",
            "Question: what color are apples?\n",
            "Helpful Answer: red\n",
            "Score: 100\n",
            "\n",
            "Example #2\n",
            "\n",
            "Context:\n",
            "---------\n",
            "it was night and the witness forgot his glasses. he was not sure if it was a sports car or an suv\n",
            "---------\n",
            "Question: what type was the car?\n",
            "Helpful Answer: a sports car or an suv\n",
            "Score: 60\n",
            "\n",
            "Example #3\n",
            "\n",
            "Context:\n",
            "---------\n",
            "Pears are either red or orange\n",
            "---------\n",
            "Question: what color are apples?\n",
            "Helpful Answer: This document does not answer the question\n",
            "Score: 0\n",
            "\n",
            "Begin!\n",
            "\n",
            "Context:\n",
            "---------\n",
            "{context}\n",
            "---------\n",
            "Question: {question}\n",
            "Helpful Answer:\n"
          ]
        }
      ]
    },
    {
      "cell_type": "markdown",
      "source": [
        "## RetrievalQA\n",
        "RetrievalQA chain uses load_qa_chain and combines it with the a retriever (in our case the FAISS index)"
      ],
      "metadata": {
        "id": "n51XThZqbzoU"
      }
    },
    {
      "cell_type": "code",
      "source": [
        "from langchain.chains import RetrievalQA\n",
        "\n",
        "# set up FAISS as a generic retriever\n",
        "retriever = docsearch.as_retriever(search_type=\"similarity\", search_kwargs={\"k\":4})\n",
        "\n",
        "# create the chain to answer questions\n",
        "rqa = RetrievalQA.from_chain_type(llm=OpenAI(),\n",
        "                                  chain_type=\"stuff\",\n",
        "                                  retriever=retriever,\n",
        "                                  return_source_documents=True)"
      ],
      "metadata": {
        "id": "nPt8EoTpbzB1"
      },
      "execution_count": null,
      "outputs": []
    },
    {
      "cell_type": "code",
      "source": [
        "rqa(\"What is OpenAI?\")"
      ],
      "metadata": {
        "id": "s3EgGlg8hIxs",
        "colab": {
          "base_uri": "https://localhost:8080/"
        },
        "outputId": "fcd24f7e-3450-455a-b1e2-644f53a5263f"
      },
      "execution_count": null,
      "outputs": [
        {
          "output_type": "execute_result",
          "data": {
            "text/plain": [
              "{'query': 'What is OpenAI?',\n",
              " 'result': ' OpenAI is an organization that creates AI tools that can assist individuals in processing information and generating action in various environments. They have released tools such as GPT-4, DALL-E 2, and ChatGPT, which can be used for tasks like research and vacation planning. They also take steps to mitigate potentially harmful outputs from their AI models.',\n",
              " 'source_documents': [Document(id='e180900a-c864-49c7-8afe-9fab95851a16', metadata={}, page_content='OpenAI had created a tool that became “intelligent” enough \\nto productively assist you in many different environments, in \\nmany different ways.\\nMuch of what we do as modern people—at work and beyond—\\nis to process information and generate action. GPT-4 will mas-\\nsively speed your ability to do these things, and with greater \\nbreadth and scope. Within a few years, this copilot will fall \\nsomewhere between useful and essential to most profession -\\nals and many other sorts of workers. Without GPT-4, they’ll 6Impromptu: Amplifying Our Humanity Through AI\\nbe slower, less comprehensive, and working at a great dis-\\nadvantage. \\nFor example, GPT-4 is a research tool you can use to quickly get \\nan overview on supply chain management issues in the COVID-\\n19 era—or to plan a week-long vacation itinerary to Patagonia \\nthat takes into account that you’re a vegan who enjoys moder-\\nately challenging hikes. \\nAlong with enabling a new kind of highly contextualized search,'),\n",
              "  Document(id='31e45b50-472b-4a85-aa16-cca358bd6747', metadata={}, page_content='ing to their own lives however they best saw fit.\\nEspecially in the realm of work, I realized, AI deployed in this \\nway could give individuals incredibly versatile new tools to \\napply to their careers, professional development, and economic \\nautonomy. So when I had a chance to become one of OpenAI’s \\ninitial funders in 2015, I took it. The vision of AI that it was \\nplanning to pursue felt like a natural extension of the goals that \\nhad inspired me to co-found LinkedIn in 2002.\\nWhen OpenAI released its text-to-image generation tool, \\nDALL-E 2, in April 2022, and then followed up six months later \\nwith ChatGPT, the organization’s mission to give millions of \\nusers hands-on access to these remarkable AI tools started to \\nplay out in a big way.\\nNow, thanks to these tools and others like Midjourney and \\nStable Diffusion, a new kind of opt-in, user-driven, and very \\nvisible AI usage suddenly exists. Users share their outputs, \\ntechniques, experiences, and opinions on Twitter, YouTube,'),\n",
              "  Document(id='91ea8f76-34e5-4e69-bea8-1ff4359fb765', metadata={}, page_content='people who have contributed to this book. First and foremost, \\nI want to thank the incredible team at OpenAI, especially Sam, \\nGreg, and Mira, for their groundbreaking work on the GPT-4 \\nmodel. I am also deeply appreciative of the support and guid -\\nance provided by Satya, Kevin, and the Microsoft team.\\nI must also acknowledge the contributions made by the many \\nindividuals who offered advice, feedback, and expertise along \\nthe way. The list includes, but is not limited to, Aria Finger, \\nBen Relles, Benjamin Kelley, Byron Auguste, Chris Yeh, DJ \\nPatil, Dmitri Mehlhorn, Elisa Schreiber, Eric Strenger, Gina \\nBianchini, Greg Beato, Haley Albert, Heather Mack, Ian Alas, \\nIan McCarthy, Lucas Campa, Nancy Lublin, Rae Steward, \\nSaida Sapieva, Sean White, Shaun Young, Steve Bodow, Surya \\nYalamanchili, and Zoe Quinton. Thank you all for your time, \\ninsights, and encouragement.\\n- Reid Hoffman\\n* * *\\nI would like to thank Reid Hoffman for inviting me to'),\n",
              "  Document(id='41c58d5f-e6d2-448e-a1c6-d85c577c967c', metadata={}, page_content='cal, and unsafe outputs—even when users desire such results.\\nTo do this, OpenAI takes a number of steps. These include \\nremoving hate speech, offensive language, and other objection -\\nable content from some datasets its LLMs are trained on; devel -\\n2 “Corpora” is the plural of a “corpus,” which in this context refers to a \\ncollection of written texts used for language research.13Introduction: Moments of Enlightenment\\noping “toxicity classifiers” that can automatically flag problem-\\natic language the LLM itself might generate; and fine-tuning \\nLLMs using curated datasets of texts that have been annotated \\nby humans to indicate a desired output. In this way, an LLM \\nmight learn to avoid, say, making tasteless jokes about a report-\\ner’s divorce.\\nThese techniques don’t eliminate problematic outputs, they just \\nreduce them. Even with various guardrails in place, an LLM \\nitself can’t make reasoned judgments about complex ethical \\nquandaries, or even about more straightforward questions.')]}"
            ]
          },
          "metadata": {},
          "execution_count": 35
        }
      ]
    },
    {
      "cell_type": "code",
      "source": [
        "query = \"What does gpt-4 mean for creativity?\"\n",
        "rqa(query)['result']"
      ],
      "metadata": {
        "id": "RahXBIXjXO7X",
        "colab": {
          "base_uri": "https://localhost:8080/",
          "height": 87
        },
        "outputId": "9d37e7a2-7649-4603-ee72-cf9fb17db9b0"
      },
      "execution_count": null,
      "outputs": [
        {
          "output_type": "execute_result",
          "data": {
            "text/plain": [
              "' GPT-4 has the potential to improve the creative practices of various types of artists and creators by providing tools and platforms that can generate images, dialogue, music, and other forms of content based on text input or other modalities. It can also serve as a versatile brainstorming and production aid for tasks such as writing, cooking, and problem-solving. However, there is still a chance for GPT-4 to miss the mark, so it may not be perfect for all creative tasks.'"
            ],
            "application/vnd.google.colaboratory.intrinsic+json": {
              "type": "string"
            }
          },
          "metadata": {},
          "execution_count": 36
        }
      ]
    },
    {
      "cell_type": "code",
      "source": [
        "query = \"what have the last 20 years been like for American journalism?\"\n",
        "rqa(query)['result']"
      ],
      "metadata": {
        "id": "EzNcvjRJXSZ4",
        "colab": {
          "base_uri": "https://localhost:8080/",
          "height": 52
        },
        "outputId": "a5fa88ab-06ee-49e3-b7ac-fece10d37b16"
      },
      "execution_count": null,
      "outputs": [
        {
          "output_type": "execute_result",
          "data": {
            "text/plain": [
              "\" The last 20 years have been mostly bad news for the American journalism industry, with the rise of the internet and competition for ad dollars from non-news players destroying traditional business models and eroding journalism's authority.\""
            ],
            "application/vnd.google.colaboratory.intrinsic+json": {
              "type": "string"
            }
          },
          "metadata": {},
          "execution_count": 37
        }
      ]
    },
    {
      "cell_type": "code",
      "source": [
        "query = \"how can journalists use GPT-4??\"\n",
        "rqa(query)['result']"
      ],
      "metadata": {
        "id": "Nhx-kpvAXUl3",
        "colab": {
          "base_uri": "https://localhost:8080/",
          "height": 70
        },
        "outputId": "201d87bb-33b2-4848-d8d6-0326c87d4bba"
      },
      "execution_count": null,
      "outputs": [
        {
          "output_type": "execute_result",
          "data": {
            "text/plain": [
              "\" Journalists can use GPT-4 as a research assistant, providing quick and broad access to information and helping to generate personalized news experiences for readers. However, journalists should also be cautious of GPT-4's limitations and verify information with other sources and human experts.\""
            ],
            "application/vnd.google.colaboratory.intrinsic+json": {
              "type": "string"
            }
          },
          "metadata": {},
          "execution_count": 38
        }
      ]
    },
    {
      "cell_type": "code",
      "source": [
        "query = \"How is GPT-4 different from other models?\"\n",
        "rqa(query)['result']"
      ],
      "metadata": {
        "id": "kIg91Z0YXXCB",
        "colab": {
          "base_uri": "https://localhost:8080/",
          "height": 70
        },
        "outputId": "75e00dae-c9d9-405b-e6cd-04a40100c9b0"
      },
      "execution_count": null,
      "outputs": [
        {
          "output_type": "execute_result",
          "data": {
            "text/plain": [
              "' GPT-4 is a more advanced version of previous GPT models and has the ability to specialize in different tasks such as image generation, data analysis, and code writing. It can also generate 3D models, lighting effects, and even music and lyrics. Additionally, GPT-4 is versatile and can be used for various creative tasks, making it a valuable tool for beginners, experts, and everyone in between. '"
            ],
            "application/vnd.google.colaboratory.intrinsic+json": {
              "type": "string"
            }
          },
          "metadata": {},
          "execution_count": 39
        }
      ]
    },
    {
      "cell_type": "code",
      "source": [
        "query = \"What is beagle Bard?\"\n",
        "rqa(query)['result']"
      ],
      "metadata": {
        "id": "D02sIID3XagO",
        "colab": {
          "base_uri": "https://localhost:8080/",
          "height": 35
        },
        "outputId": "83963dac-6dff-4cf2-adb8-803dc66cc31a"
      },
      "execution_count": null,
      "outputs": [
        {
          "output_type": "execute_result",
          "data": {
            "text/plain": [
              "\" I don't know.\""
            ],
            "application/vnd.google.colaboratory.intrinsic+json": {
              "type": "string"
            }
          },
          "metadata": {},
          "execution_count": 40
        }
      ]
    },
    {
      "cell_type": "code",
      "source": [],
      "metadata": {
        "id": "e3oOxDi9QqZb"
      },
      "execution_count": null,
      "outputs": []
    },
    {
      "cell_type": "code",
      "source": [],
      "metadata": {
        "id": "6d_fI6cIRpZZ"
      },
      "execution_count": null,
      "outputs": []
    }
  ]
}